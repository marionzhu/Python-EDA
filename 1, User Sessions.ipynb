{
 "cells": [
  {
   "cell_type": "markdown",
   "metadata": {},
   "source": [
    "<div>\n",
    "    <img src=\"images/emlyon.png\" style=\"height:60px; float:left; padding-right:10px; margin-top:5px\" />\n",
    "    <span>\n",
    "        <h1 style=\"padding-bottom:5px;\"> User Session </h1>\n",
    "        <a href=\"https://masters.em-lyon.com/en/msc-in-digital-marketing-data-science\">[Emlyon]</a> MSc in Digital Marketing & Data Science (DMDS) <br/>\n",
    "         September 2023, Paris | © Saeed VARASTEH [RP] | Jean SAVINIEN\n",
    "    </span>\n",
    "</div>"
   ]
  },
  {
   "cell_type": "markdown",
   "metadata": {},
   "source": [
    "<div class=\"alert-info\"> You can download the data you need for this exercise here: <a href=\"https://www.dropbox.com/scl/fi/bdh8iiq7tg1m7zl881mrl/session.zip?rlkey=z9rv16b9zw94eyukm4jsoxzey&dl=0\"> Session Data </a> </div>"
   ]
  },
  {
   "cell_type": "markdown",
   "metadata": {},
   "source": [
    "#### Dataset description"
   ]
  },
  {
   "cell_type": "markdown",
   "metadata": {},
   "source": [
    "You will be given two files: __session_clicks.csv__ and __session-buys.csv__.\n",
    "\n",
    "The __session_clicks.csv__ file consists of the clicks made by the users on the items during a session.\n",
    "\n",
    "Each line of the file has the following format `Session ID`, `Timestamp`, `Item ID`, and `Category`\n",
    "\n",
    "- `Session ID`: the unique identifier of the session. A session can have one or more clicks.\n",
    "\n",
    "- `Timestamp`: the date and time when the click occurred. Format of YYYY-MM-DD hh:mm:ss.\n",
    "\n",
    "- `Item ID`: the unique identifier of the clicked item.\n",
    "\n",
    "- `Category`: the context of the click. A number from 0 to 14.\n",
    "    - 0 indicates missing values, a number between 1 and 12 is a category identifier (e.g. sports), 13 indicates a special offer and 14 represents all other brands.\n",
    "\n",
    "The file __session-buys.csv__ consists of the buy events.\n",
    "\n",
    "Each line of the file has the following format `Session ID`, `Timestamp`, `Item ID`, `Price`, and `Quantity`\n",
    "\n",
    "- `Price`: the price of the purchased item.\n",
    "\n",
    "- `Quantity`: the buy quantity."
   ]
  },
  {
   "cell_type": "markdown",
   "metadata": {},
   "source": [
    "__Your Task__\n",
    "\n",
    "Read the datasets and explore the data, create visualisations and look for patterns.\n",
    "\n",
    "You are not given a specific task to do! You are the data analyst, extract as much information as you can from these files based on what you have learned in class. Use Pandas functions, visualisation, etc.\n",
    "\n",
    "Comment/document everything.\n",
    "\n",
    "Here are some steps you can follow to get started:\n",
    "\n",
    "- Read the datasets into two separate dataframes: __clicks__ and __buys__.\n",
    "- Check for missing values.\n",
    "- Check column data types.\n",
    "- Convert the `ts` column to a datetime column.\n",
    "- Use the `ts` column to create some time-based columns such as: `year`, `month`, `day`, `hour`, `week` and `weekday`.\n",
    "- Describe all numerical columns.\n",
    "\n",
    "And here are some questions you can answer: (Add as many questions as you like to this list and try to answer them)\n",
    "\n",
    "- What is the average number of clicks/purchases per hour?\n",
    "- What time of day do people tend to visit/buy more?\n",
    "- What is the average number of clicks/purchases per day of the week in the datasets?\n",
    "- What day of the week do people tend to visit/buy more items?\n",
    "- How many sessions are there per category?\n",
    "- How long is the longest session?\n",
    "- What items were sold in the longest session? When did this happen?\n",
    "- Do longer sessions result in more purchases?\n",
    "- Is there a relationship between session length and number of purchases?\n",
    "- What are the most popular (most sold) items?\n",
    "\n",
    "\n",
    "- What general marketing strategies (in terms of sending promotional emails, site advertising or personalised recommendations) can you think of for this online retailer?"
   ]
  },
  {
   "cell_type": "code",
   "execution_count": 1,
   "metadata": {},
   "outputs": [],
   "source": [
    "import matplotlib.pyplot as plt\n",
    "import seaborn as sns\n",
    "import numpy as np \n",
    "import pandas as pd"
   ]
  },
  {
   "cell_type": "code",
   "execution_count": 2,
   "metadata": {},
   "outputs": [
    {
     "name": "stdout",
     "output_type": "stream",
     "text": [
      "clicks dataset shape (33003944, 4)\n"
     ]
    },
    {
     "data": {
      "text/html": [
       "<div>\n",
       "<style scoped>\n",
       "    .dataframe tbody tr th:only-of-type {\n",
       "        vertical-align: middle;\n",
       "    }\n",
       "\n",
       "    .dataframe tbody tr th {\n",
       "        vertical-align: top;\n",
       "    }\n",
       "\n",
       "    .dataframe thead th {\n",
       "        text-align: right;\n",
       "    }\n",
       "</style>\n",
       "<table border=\"1\" class=\"dataframe\">\n",
       "  <thead>\n",
       "    <tr style=\"text-align: right;\">\n",
       "      <th></th>\n",
       "      <th>sessionID</th>\n",
       "      <th>ts</th>\n",
       "      <th>itemID</th>\n",
       "      <th>cat</th>\n",
       "    </tr>\n",
       "  </thead>\n",
       "  <tbody>\n",
       "    <tr>\n",
       "      <th>11853364</th>\n",
       "      <td>3603304</td>\n",
       "      <td>2014-05-28 08:06:46.209000+00:00</td>\n",
       "      <td>214820259</td>\n",
       "      <td>0</td>\n",
       "    </tr>\n",
       "    <tr>\n",
       "      <th>22875014</th>\n",
       "      <td>7465891</td>\n",
       "      <td>2014-08-09 09:15:31.270000+00:00</td>\n",
       "      <td>214678029</td>\n",
       "      <td>13</td>\n",
       "    </tr>\n",
       "    <tr>\n",
       "      <th>32383270</th>\n",
       "      <td>11525301</td>\n",
       "      <td>2014-09-23 07:34:12.033000+00:00</td>\n",
       "      <td>214744091</td>\n",
       "      <td>13</td>\n",
       "    </tr>\n",
       "    <tr>\n",
       "      <th>2683439</th>\n",
       "      <td>894943</td>\n",
       "      <td>2014-04-11 08:22:58.449000+00:00</td>\n",
       "      <td>214718246</td>\n",
       "      <td>0</td>\n",
       "    </tr>\n",
       "    <tr>\n",
       "      <th>32746890</th>\n",
       "      <td>11339678</td>\n",
       "      <td>2014-09-28 10:09:41.893000+00:00</td>\n",
       "      <td>214857596</td>\n",
       "      <td>13</td>\n",
       "    </tr>\n",
       "  </tbody>\n",
       "</table>\n",
       "</div>"
      ],
      "text/plain": [
       "          sessionID                                ts     itemID  cat\n",
       "11853364    3603304  2014-05-28 08:06:46.209000+00:00  214820259    0\n",
       "22875014    7465891  2014-08-09 09:15:31.270000+00:00  214678029   13\n",
       "32383270   11525301  2014-09-23 07:34:12.033000+00:00  214744091   13\n",
       "2683439      894943  2014-04-11 08:22:58.449000+00:00  214718246    0\n",
       "32746890   11339678  2014-09-28 10:09:41.893000+00:00  214857596   13"
      ]
     },
     "execution_count": 2,
     "metadata": {},
     "output_type": "execute_result"
    }
   ],
   "source": [
    "clicks = pd.read_csv('session/session_clicks.csv') \n",
    "print(\"clicks dataset shape\",clicks.shape)\n",
    "clicks.sample(5)"
   ]
  },
  {
   "cell_type": "code",
   "execution_count": 3,
   "metadata": {},
   "outputs": [
    {
     "name": "stdout",
     "output_type": "stream",
     "text": [
      "buys dataset shape (1150753, 5)\n"
     ]
    },
    {
     "data": {
      "text/html": [
       "<div>\n",
       "<style scoped>\n",
       "    .dataframe tbody tr th:only-of-type {\n",
       "        vertical-align: middle;\n",
       "    }\n",
       "\n",
       "    .dataframe tbody tr th {\n",
       "        vertical-align: top;\n",
       "    }\n",
       "\n",
       "    .dataframe thead th {\n",
       "        text-align: right;\n",
       "    }\n",
       "</style>\n",
       "<table border=\"1\" class=\"dataframe\">\n",
       "  <thead>\n",
       "    <tr style=\"text-align: right;\">\n",
       "      <th></th>\n",
       "      <th>sessionID</th>\n",
       "      <th>ts</th>\n",
       "      <th>itemID</th>\n",
       "      <th>price</th>\n",
       "      <th>cnt</th>\n",
       "    </tr>\n",
       "  </thead>\n",
       "  <tbody>\n",
       "    <tr>\n",
       "      <th>0</th>\n",
       "      <td>420374</td>\n",
       "      <td>2014-04-06 18:44:58.314000+00:00</td>\n",
       "      <td>214537888</td>\n",
       "      <td>12462</td>\n",
       "      <td>1</td>\n",
       "    </tr>\n",
       "    <tr>\n",
       "      <th>1</th>\n",
       "      <td>420374</td>\n",
       "      <td>2014-04-06 18:44:58.325000+00:00</td>\n",
       "      <td>214537850</td>\n",
       "      <td>10471</td>\n",
       "      <td>1</td>\n",
       "    </tr>\n",
       "    <tr>\n",
       "      <th>2</th>\n",
       "      <td>281626</td>\n",
       "      <td>2014-04-06 09:40:13.032000+00:00</td>\n",
       "      <td>214535653</td>\n",
       "      <td>1883</td>\n",
       "      <td>1</td>\n",
       "    </tr>\n",
       "    <tr>\n",
       "      <th>3</th>\n",
       "      <td>420368</td>\n",
       "      <td>2014-04-04 06:13:28.848000+00:00</td>\n",
       "      <td>214530572</td>\n",
       "      <td>6073</td>\n",
       "      <td>1</td>\n",
       "    </tr>\n",
       "    <tr>\n",
       "      <th>4</th>\n",
       "      <td>420368</td>\n",
       "      <td>2014-04-04 06:13:28.858000+00:00</td>\n",
       "      <td>214835025</td>\n",
       "      <td>2617</td>\n",
       "      <td>1</td>\n",
       "    </tr>\n",
       "  </tbody>\n",
       "</table>\n",
       "</div>"
      ],
      "text/plain": [
       "   sessionID                                ts     itemID  price  cnt\n",
       "0     420374  2014-04-06 18:44:58.314000+00:00  214537888  12462    1\n",
       "1     420374  2014-04-06 18:44:58.325000+00:00  214537850  10471    1\n",
       "2     281626  2014-04-06 09:40:13.032000+00:00  214535653   1883    1\n",
       "3     420368  2014-04-04 06:13:28.848000+00:00  214530572   6073    1\n",
       "4     420368  2014-04-04 06:13:28.858000+00:00  214835025   2617    1"
      ]
     },
     "execution_count": 3,
     "metadata": {},
     "output_type": "execute_result"
    }
   ],
   "source": [
    "buys = pd.read_csv('session/session_buys.csv')\n",
    "print(\"buys dataset shape\",buys.shape)\n",
    "buys.head()"
   ]
  },
  {
   "cell_type": "markdown",
   "metadata": {},
   "source": [
    "#### check missing values and column data types"
   ]
  },
  {
   "cell_type": "code",
   "execution_count": 4,
   "metadata": {},
   "outputs": [
    {
     "name": "stdout",
     "output_type": "stream",
     "text": [
      "<class 'pandas.core.frame.DataFrame'>\n",
      "RangeIndex: 33003944 entries, 0 to 33003943\n",
      "Data columns (total 4 columns):\n",
      " #   Column     Non-Null Count     Dtype \n",
      "---  ------     --------------     ----- \n",
      " 0   sessionID  33003944 non-null  int64 \n",
      " 1   ts         33003944 non-null  object\n",
      " 2   itemID     33003944 non-null  int64 \n",
      " 3   cat        33003944 non-null  int64 \n",
      "dtypes: int64(3), object(1)\n",
      "memory usage: 1007.2+ MB\n"
     ]
    }
   ],
   "source": [
    " clicks.info(show_counts = True) # none of 4 columns has missing values."
   ]
  },
  {
   "cell_type": "code",
   "execution_count": 6,
   "metadata": {},
   "outputs": [
    {
     "data": {
      "text/plain": [
       "sessionID    0\n",
       "ts           0\n",
       "itemID       0\n",
       "cat          0\n",
       "dtype: int64"
      ]
     },
     "execution_count": 6,
     "metadata": {},
     "output_type": "execute_result"
    }
   ],
   "source": [
    "clicks.isna().sum() # none of 4 columns has missing values."
   ]
  },
  {
   "cell_type": "code",
   "execution_count": 112,
   "metadata": {},
   "outputs": [
    {
     "name": "stdout",
     "output_type": "stream",
     "text": [
      "<class 'pandas.core.frame.DataFrame'>\n",
      "RangeIndex: 1150753 entries, 0 to 1150752\n",
      "Data columns (total 5 columns):\n",
      " #   Column     Non-Null Count    Dtype \n",
      "---  ------     --------------    ----- \n",
      " 0   sessionID  1150753 non-null  int64 \n",
      " 1   ts         1150753 non-null  object\n",
      " 2   itemID     1150753 non-null  int64 \n",
      " 3   price      1150753 non-null  int64 \n",
      " 4   cnt        1150753 non-null  int64 \n",
      "dtypes: int64(4), object(1)\n",
      "memory usage: 43.9+ MB\n"
     ]
    }
   ],
   "source": [
    "buys.info() # none of 5 columns has missing values."
   ]
  },
  {
   "cell_type": "code",
   "execution_count": 113,
   "metadata": {},
   "outputs": [
    {
     "data": {
      "text/html": [
       "<div>\n",
       "<style scoped>\n",
       "    .dataframe tbody tr th:only-of-type {\n",
       "        vertical-align: middle;\n",
       "    }\n",
       "\n",
       "    .dataframe tbody tr th {\n",
       "        vertical-align: top;\n",
       "    }\n",
       "\n",
       "    .dataframe thead th {\n",
       "        text-align: right;\n",
       "    }\n",
       "</style>\n",
       "<table border=\"1\" class=\"dataframe\">\n",
       "  <thead>\n",
       "    <tr style=\"text-align: right;\">\n",
       "      <th></th>\n",
       "      <th>sessionID</th>\n",
       "      <th>ts</th>\n",
       "      <th>itemID</th>\n",
       "      <th>price</th>\n",
       "      <th>cnt</th>\n",
       "    </tr>\n",
       "  </thead>\n",
       "  <tbody>\n",
       "  </tbody>\n",
       "</table>\n",
       "</div>"
      ],
      "text/plain": [
       "Empty DataFrame\n",
       "Columns: [sessionID, ts, itemID, price, cnt]\n",
       "Index: []"
      ]
     },
     "execution_count": 113,
     "metadata": {},
     "output_type": "execute_result"
    }
   ],
   "source": [
    "buys.loc[buys.isna().any(axis = 1)] # no missing values "
   ]
  },
  {
   "cell_type": "markdown",
   "metadata": {},
   "source": [
    "#### Convert the ts column to a datetime column"
   ]
  },
  {
   "cell_type": "code",
   "execution_count": 114,
   "metadata": {},
   "outputs": [
    {
     "data": {
      "text/plain": [
       "dtype('<M8[ns]')"
      ]
     },
     "execution_count": 114,
     "metadata": {},
     "output_type": "execute_result"
    }
   ],
   "source": [
    "buys['ts'] = buys['ts'].str[:19]\n",
    "buys['ts'] = pd.to_datetime(buys['ts'])\n",
    "buys['ts'].dtypes"
   ]
  },
  {
   "cell_type": "code",
   "execution_count": 115,
   "metadata": {
    "scrolled": true
   },
   "outputs": [
    {
     "data": {
      "text/plain": [
       "dtype('<M8[ns]')"
      ]
     },
     "execution_count": 115,
     "metadata": {},
     "output_type": "execute_result"
    }
   ],
   "source": [
    "clicks['ts'] = clicks['ts'].str[:19]\n",
    "clicks['ts'] = pd.to_datetime(clicks['ts'])\n",
    "clicks['ts'].dtypes"
   ]
  },
  {
   "cell_type": "markdown",
   "metadata": {},
   "source": [
    "#### Use the ts column to create some time-based columns such as: year, month, day, hour, week and weekday"
   ]
  },
  {
   "cell_type": "code",
   "execution_count": 116,
   "metadata": {},
   "outputs": [],
   "source": [
    "import datetime as dt\n",
    "\n",
    "clicks['year'] = clicks['ts'].dt.year\n",
    "clicks['month'] = clicks['ts'].dt.month\n",
    "clicks['day'] = clicks['ts'].dt.day\n",
    "clicks['hour'] = clicks['ts'].dt.hour\n",
    "clicks['week'] = clicks['ts'].dt.isocalendar().week\n",
    "clicks['weekday'] = clicks['ts'].dt.weekday"
   ]
  },
  {
   "cell_type": "code",
   "execution_count": 117,
   "metadata": {},
   "outputs": [],
   "source": [
    "buys['year'] = buys['ts'].dt.year\n",
    "buys['month'] = buys['ts'].dt.month\n",
    "buys['day'] = buys['ts'].dt.day\n",
    "buys['hour'] = buys['ts'].dt.hour\n",
    "buys['week'] = buys['ts'].dt.isocalendar().week\n",
    "buys['weekday'] = buys['ts'].dt.weekday"
   ]
  },
  {
   "cell_type": "markdown",
   "metadata": {},
   "source": [
    "#### Describe all numerical columns"
   ]
  },
  {
   "cell_type": "code",
   "execution_count": 118,
   "metadata": {},
   "outputs": [
    {
     "data": {
      "image/png": "[encoded data removed]",
      "text/plain": [
       "<Figure size 640x480 with 1 Axes>"
      ]
     },
     "metadata": {},
     "output_type": "display_data"
    }
   ],
   "source": [
    "clicks['cat'].value_counts().plot(kind = 'bar', rot = 45);"
   ]
  },
  {
   "cell_type": "code",
   "execution_count": 119,
   "metadata": {
    "scrolled": true
   },
   "outputs": [
    {
     "data": {
      "image/png": "[encoded data removed]",
      "text/plain": [
       "<Figure size 640x480 with 1 Axes>"
      ]
     },
     "metadata": {},
     "output_type": "display_data"
    }
   ],
   "source": [
    "buys['price'].plot(kind = 'box');"
   ]
  },
  {
   "cell_type": "markdown",
   "metadata": {},
   "source": [
    "---"
   ]
  },
  {
   "cell_type": "markdown",
   "metadata": {},
   "source": [
    "#### What is the average number of clicks/purchases per hour?"
   ]
  },
  {
   "cell_type": "code",
   "execution_count": 120,
   "metadata": {},
   "outputs": [
    {
     "data": {
      "text/plain": [
       "7556.0"
      ]
     },
     "execution_count": 120,
     "metadata": {},
     "output_type": "execute_result"
    }
   ],
   "source": [
    "df_clicks = clicks.groupby(['year', 'month', 'day','hour']).size().reset_index(name = 'clicks_counts')\n",
    "clicks_per_hour = df_clicks['clicks_counts'].mean().round()\n",
    "clicks_per_hour # clicks per hour is 7556"
   ]
  },
  {
   "cell_type": "code",
   "execution_count": 121,
   "metadata": {},
   "outputs": [
    {
     "data": {
      "text/plain": [
       "274.0"
      ]
     },
     "execution_count": 121,
     "metadata": {},
     "output_type": "execute_result"
    }
   ],
   "source": [
    "df_buys = buys.groupby(['year', 'month', 'day','hour']).size().reset_index(name = 'purchases_counts')\n",
    "purchases_per_hour = df_buys['purchases_counts'].mean().round()\n",
    "purchases_per_hour # purchases per hour is 274"
   ]
  },
  {
   "cell_type": "markdown",
   "metadata": {},
   "source": [
    "#### What time of day do people tend to visit/buy more?"
   ]
  },
  {
   "cell_type": "code",
   "execution_count": 122,
   "metadata": {},
   "outputs": [
    {
     "data": {
      "image/png": "[encoded data removed]",
      "text/plain": [
       "<Figure size 640x480 with 1 Axes>"
      ]
     },
     "metadata": {},
     "output_type": "display_data"
    }
   ],
   "source": [
    "df_clicks.groupby(['hour'])[['clicks_counts']].mean().plot(kind = 'bar', rot = 45);\n",
    "# according to the figure below, around 9h and 19h, people tend to click more"
   ]
  },
  {
   "cell_type": "code",
   "execution_count": 123,
   "metadata": {
    "scrolled": true
   },
   "outputs": [
    {
     "data": {
      "image/png": "[encoded data removed]",
      "text/plain": [
       "<Figure size 640x480 with 1 Axes>"
      ]
     },
     "metadata": {},
     "output_type": "display_data"
    }
   ],
   "source": [
    "df_buys.groupby(['hour'])[['purchases_counts']].mean().plot(kind = 'bar', rot = 45);\n",
    "# according to the photo, around 9h and 19h, people tend to buy more, same as the time people tend to click more."
   ]
  },
  {
   "cell_type": "markdown",
   "metadata": {},
   "source": [
    "#### What is the average number of clicks/purchases per day of the week in the datasets?"
   ]
  },
  {
   "cell_type": "code",
   "execution_count": 124,
   "metadata": {},
   "outputs": [
    {
     "data": {
      "text/html": [
       "<div>\n",
       "<style scoped>\n",
       "    .dataframe tbody tr th:only-of-type {\n",
       "        vertical-align: middle;\n",
       "    }\n",
       "\n",
       "    .dataframe tbody tr th {\n",
       "        vertical-align: top;\n",
       "    }\n",
       "\n",
       "    .dataframe thead th {\n",
       "        text-align: right;\n",
       "    }\n",
       "</style>\n",
       "<table border=\"1\" class=\"dataframe\">\n",
       "  <thead>\n",
       "    <tr style=\"text-align: right;\">\n",
       "      <th></th>\n",
       "      <th>year</th>\n",
       "      <th>week</th>\n",
       "      <th>avg_click_per_day</th>\n",
       "    </tr>\n",
       "  </thead>\n",
       "  <tbody>\n",
       "    <tr>\n",
       "      <th>0</th>\n",
       "      <td>2014</td>\n",
       "      <td>14</td>\n",
       "      <td>219258.0</td>\n",
       "    </tr>\n",
       "    <tr>\n",
       "      <th>1</th>\n",
       "      <td>2014</td>\n",
       "      <td>15</td>\n",
       "      <td>198986.0</td>\n",
       "    </tr>\n",
       "    <tr>\n",
       "      <th>2</th>\n",
       "      <td>2014</td>\n",
       "      <td>16</td>\n",
       "      <td>164163.0</td>\n",
       "    </tr>\n",
       "    <tr>\n",
       "      <th>3</th>\n",
       "      <td>2014</td>\n",
       "      <td>17</td>\n",
       "      <td>217900.0</td>\n",
       "    </tr>\n",
       "    <tr>\n",
       "      <th>4</th>\n",
       "      <td>2014</td>\n",
       "      <td>18</td>\n",
       "      <td>188808.0</td>\n",
       "    </tr>\n",
       "    <tr>\n",
       "      <th>5</th>\n",
       "      <td>2014</td>\n",
       "      <td>19</td>\n",
       "      <td>165667.0</td>\n",
       "    </tr>\n",
       "    <tr>\n",
       "      <th>6</th>\n",
       "      <td>2014</td>\n",
       "      <td>20</td>\n",
       "      <td>206830.0</td>\n",
       "    </tr>\n",
       "    <tr>\n",
       "      <th>7</th>\n",
       "      <td>2014</td>\n",
       "      <td>21</td>\n",
       "      <td>184110.0</td>\n",
       "    </tr>\n",
       "    <tr>\n",
       "      <th>8</th>\n",
       "      <td>2014</td>\n",
       "      <td>22</td>\n",
       "      <td>176373.0</td>\n",
       "    </tr>\n",
       "    <tr>\n",
       "      <th>9</th>\n",
       "      <td>2014</td>\n",
       "      <td>23</td>\n",
       "      <td>164948.0</td>\n",
       "    </tr>\n",
       "    <tr>\n",
       "      <th>10</th>\n",
       "      <td>2014</td>\n",
       "      <td>24</td>\n",
       "      <td>209383.0</td>\n",
       "    </tr>\n",
       "    <tr>\n",
       "      <th>11</th>\n",
       "      <td>2014</td>\n",
       "      <td>25</td>\n",
       "      <td>141040.0</td>\n",
       "    </tr>\n",
       "    <tr>\n",
       "      <th>12</th>\n",
       "      <td>2014</td>\n",
       "      <td>26</td>\n",
       "      <td>144044.0</td>\n",
       "    </tr>\n",
       "    <tr>\n",
       "      <th>13</th>\n",
       "      <td>2014</td>\n",
       "      <td>27</td>\n",
       "      <td>119135.0</td>\n",
       "    </tr>\n",
       "    <tr>\n",
       "      <th>14</th>\n",
       "      <td>2014</td>\n",
       "      <td>28</td>\n",
       "      <td>143809.0</td>\n",
       "    </tr>\n",
       "    <tr>\n",
       "      <th>15</th>\n",
       "      <td>2014</td>\n",
       "      <td>29</td>\n",
       "      <td>141685.0</td>\n",
       "    </tr>\n",
       "    <tr>\n",
       "      <th>16</th>\n",
       "      <td>2014</td>\n",
       "      <td>30</td>\n",
       "      <td>167621.0</td>\n",
       "    </tr>\n",
       "    <tr>\n",
       "      <th>17</th>\n",
       "      <td>2014</td>\n",
       "      <td>31</td>\n",
       "      <td>157274.0</td>\n",
       "    </tr>\n",
       "    <tr>\n",
       "      <th>18</th>\n",
       "      <td>2014</td>\n",
       "      <td>32</td>\n",
       "      <td>198410.0</td>\n",
       "    </tr>\n",
       "    <tr>\n",
       "      <th>19</th>\n",
       "      <td>2014</td>\n",
       "      <td>33</td>\n",
       "      <td>233078.0</td>\n",
       "    </tr>\n",
       "    <tr>\n",
       "      <th>20</th>\n",
       "      <td>2014</td>\n",
       "      <td>34</td>\n",
       "      <td>239928.0</td>\n",
       "    </tr>\n",
       "    <tr>\n",
       "      <th>21</th>\n",
       "      <td>2014</td>\n",
       "      <td>35</td>\n",
       "      <td>209648.0</td>\n",
       "    </tr>\n",
       "    <tr>\n",
       "      <th>22</th>\n",
       "      <td>2014</td>\n",
       "      <td>36</td>\n",
       "      <td>184523.0</td>\n",
       "    </tr>\n",
       "    <tr>\n",
       "      <th>23</th>\n",
       "      <td>2014</td>\n",
       "      <td>37</td>\n",
       "      <td>223024.0</td>\n",
       "    </tr>\n",
       "    <tr>\n",
       "      <th>24</th>\n",
       "      <td>2014</td>\n",
       "      <td>38</td>\n",
       "      <td>190551.0</td>\n",
       "    </tr>\n",
       "    <tr>\n",
       "      <th>25</th>\n",
       "      <td>2014</td>\n",
       "      <td>39</td>\n",
       "      <td>144432.0</td>\n",
       "    </tr>\n",
       "    <tr>\n",
       "      <th>26</th>\n",
       "      <td>2014</td>\n",
       "      <td>40</td>\n",
       "      <td>40408.0</td>\n",
       "    </tr>\n",
       "  </tbody>\n",
       "</table>\n",
       "</div>"
      ],
      "text/plain": [
       "    year  week  avg_click_per_day\n",
       "0   2014    14           219258.0\n",
       "1   2014    15           198986.0\n",
       "2   2014    16           164163.0\n",
       "3   2014    17           217900.0\n",
       "4   2014    18           188808.0\n",
       "5   2014    19           165667.0\n",
       "6   2014    20           206830.0\n",
       "7   2014    21           184110.0\n",
       "8   2014    22           176373.0\n",
       "9   2014    23           164948.0\n",
       "10  2014    24           209383.0\n",
       "11  2014    25           141040.0\n",
       "12  2014    26           144044.0\n",
       "13  2014    27           119135.0\n",
       "14  2014    28           143809.0\n",
       "15  2014    29           141685.0\n",
       "16  2014    30           167621.0\n",
       "17  2014    31           157274.0\n",
       "18  2014    32           198410.0\n",
       "19  2014    33           233078.0\n",
       "20  2014    34           239928.0\n",
       "21  2014    35           209648.0\n",
       "22  2014    36           184523.0\n",
       "23  2014    37           223024.0\n",
       "24  2014    38           190551.0\n",
       "25  2014    39           144432.0\n",
       "26  2014    40            40408.0"
      ]
     },
     "execution_count": 124,
     "metadata": {},
     "output_type": "execute_result"
    }
   ],
   "source": [
    "df_clicks_weekday = clicks.groupby(['year','week','weekday']).size().reset_index(name = 'clicks_counts')\n",
    "df_clicks_weekday.groupby(['year','week'])['clicks_counts'].mean().round().reset_index(name = 'avg_click_per_day')"
   ]
  },
  {
   "cell_type": "code",
   "execution_count": 125,
   "metadata": {},
   "outputs": [
    {
     "data": {
      "text/html": [
       "<div>\n",
       "<style scoped>\n",
       "    .dataframe tbody tr th:only-of-type {\n",
       "        vertical-align: middle;\n",
       "    }\n",
       "\n",
       "    .dataframe tbody tr th {\n",
       "        vertical-align: top;\n",
       "    }\n",
       "\n",
       "    .dataframe thead th {\n",
       "        text-align: right;\n",
       "    }\n",
       "</style>\n",
       "<table border=\"1\" class=\"dataframe\">\n",
       "  <thead>\n",
       "    <tr style=\"text-align: right;\">\n",
       "      <th></th>\n",
       "      <th>year</th>\n",
       "      <th>week</th>\n",
       "      <th>avg_buys_per_day</th>\n",
       "    </tr>\n",
       "  </thead>\n",
       "  <tbody>\n",
       "    <tr>\n",
       "      <th>0</th>\n",
       "      <td>2014</td>\n",
       "      <td>14</td>\n",
       "      <td>7071.0</td>\n",
       "    </tr>\n",
       "    <tr>\n",
       "      <th>1</th>\n",
       "      <td>2014</td>\n",
       "      <td>15</td>\n",
       "      <td>6331.0</td>\n",
       "    </tr>\n",
       "    <tr>\n",
       "      <th>2</th>\n",
       "      <td>2014</td>\n",
       "      <td>16</td>\n",
       "      <td>4680.0</td>\n",
       "    </tr>\n",
       "    <tr>\n",
       "      <th>3</th>\n",
       "      <td>2014</td>\n",
       "      <td>17</td>\n",
       "      <td>6432.0</td>\n",
       "    </tr>\n",
       "    <tr>\n",
       "      <th>4</th>\n",
       "      <td>2014</td>\n",
       "      <td>18</td>\n",
       "      <td>5110.0</td>\n",
       "    </tr>\n",
       "    <tr>\n",
       "      <th>5</th>\n",
       "      <td>2014</td>\n",
       "      <td>19</td>\n",
       "      <td>6047.0</td>\n",
       "    </tr>\n",
       "    <tr>\n",
       "      <th>6</th>\n",
       "      <td>2014</td>\n",
       "      <td>20</td>\n",
       "      <td>8069.0</td>\n",
       "    </tr>\n",
       "    <tr>\n",
       "      <th>7</th>\n",
       "      <td>2014</td>\n",
       "      <td>21</td>\n",
       "      <td>4784.0</td>\n",
       "    </tr>\n",
       "    <tr>\n",
       "      <th>8</th>\n",
       "      <td>2014</td>\n",
       "      <td>22</td>\n",
       "      <td>5457.0</td>\n",
       "    </tr>\n",
       "    <tr>\n",
       "      <th>9</th>\n",
       "      <td>2014</td>\n",
       "      <td>23</td>\n",
       "      <td>4612.0</td>\n",
       "    </tr>\n",
       "    <tr>\n",
       "      <th>10</th>\n",
       "      <td>2014</td>\n",
       "      <td>24</td>\n",
       "      <td>6687.0</td>\n",
       "    </tr>\n",
       "    <tr>\n",
       "      <th>11</th>\n",
       "      <td>2014</td>\n",
       "      <td>25</td>\n",
       "      <td>4941.0</td>\n",
       "    </tr>\n",
       "    <tr>\n",
       "      <th>12</th>\n",
       "      <td>2014</td>\n",
       "      <td>26</td>\n",
       "      <td>5702.0</td>\n",
       "    </tr>\n",
       "    <tr>\n",
       "      <th>13</th>\n",
       "      <td>2014</td>\n",
       "      <td>27</td>\n",
       "      <td>4562.0</td>\n",
       "    </tr>\n",
       "    <tr>\n",
       "      <th>14</th>\n",
       "      <td>2014</td>\n",
       "      <td>28</td>\n",
       "      <td>5576.0</td>\n",
       "    </tr>\n",
       "    <tr>\n",
       "      <th>15</th>\n",
       "      <td>2014</td>\n",
       "      <td>29</td>\n",
       "      <td>5506.0</td>\n",
       "    </tr>\n",
       "    <tr>\n",
       "      <th>16</th>\n",
       "      <td>2014</td>\n",
       "      <td>30</td>\n",
       "      <td>5553.0</td>\n",
       "    </tr>\n",
       "    <tr>\n",
       "      <th>17</th>\n",
       "      <td>2014</td>\n",
       "      <td>31</td>\n",
       "      <td>5321.0</td>\n",
       "    </tr>\n",
       "    <tr>\n",
       "      <th>18</th>\n",
       "      <td>2014</td>\n",
       "      <td>32</td>\n",
       "      <td>8231.0</td>\n",
       "    </tr>\n",
       "    <tr>\n",
       "      <th>19</th>\n",
       "      <td>2014</td>\n",
       "      <td>33</td>\n",
       "      <td>8784.0</td>\n",
       "    </tr>\n",
       "    <tr>\n",
       "      <th>20</th>\n",
       "      <td>2014</td>\n",
       "      <td>34</td>\n",
       "      <td>8919.0</td>\n",
       "    </tr>\n",
       "    <tr>\n",
       "      <th>21</th>\n",
       "      <td>2014</td>\n",
       "      <td>35</td>\n",
       "      <td>8014.0</td>\n",
       "    </tr>\n",
       "    <tr>\n",
       "      <th>22</th>\n",
       "      <td>2014</td>\n",
       "      <td>36</td>\n",
       "      <td>7097.0</td>\n",
       "    </tr>\n",
       "    <tr>\n",
       "      <th>23</th>\n",
       "      <td>2014</td>\n",
       "      <td>37</td>\n",
       "      <td>8272.0</td>\n",
       "    </tr>\n",
       "    <tr>\n",
       "      <th>24</th>\n",
       "      <td>2014</td>\n",
       "      <td>38</td>\n",
       "      <td>7790.0</td>\n",
       "    </tr>\n",
       "    <tr>\n",
       "      <th>25</th>\n",
       "      <td>2014</td>\n",
       "      <td>39</td>\n",
       "      <td>5688.0</td>\n",
       "    </tr>\n",
       "    <tr>\n",
       "      <th>26</th>\n",
       "      <td>2014</td>\n",
       "      <td>40</td>\n",
       "      <td>598.0</td>\n",
       "    </tr>\n",
       "  </tbody>\n",
       "</table>\n",
       "</div>"
      ],
      "text/plain": [
       "    year  week  avg_buys_per_day\n",
       "0   2014    14            7071.0\n",
       "1   2014    15            6331.0\n",
       "2   2014    16            4680.0\n",
       "3   2014    17            6432.0\n",
       "4   2014    18            5110.0\n",
       "5   2014    19            6047.0\n",
       "6   2014    20            8069.0\n",
       "7   2014    21            4784.0\n",
       "8   2014    22            5457.0\n",
       "9   2014    23            4612.0\n",
       "10  2014    24            6687.0\n",
       "11  2014    25            4941.0\n",
       "12  2014    26            5702.0\n",
       "13  2014    27            4562.0\n",
       "14  2014    28            5576.0\n",
       "15  2014    29            5506.0\n",
       "16  2014    30            5553.0\n",
       "17  2014    31            5321.0\n",
       "18  2014    32            8231.0\n",
       "19  2014    33            8784.0\n",
       "20  2014    34            8919.0\n",
       "21  2014    35            8014.0\n",
       "22  2014    36            7097.0\n",
       "23  2014    37            8272.0\n",
       "24  2014    38            7790.0\n",
       "25  2014    39            5688.0\n",
       "26  2014    40             598.0"
      ]
     },
     "execution_count": 125,
     "metadata": {},
     "output_type": "execute_result"
    }
   ],
   "source": [
    "df_buys_weekday = buys.groupby(['year','week','weekday']).size().reset_index(name = 'buys_counts')\n",
    "df_buys_weekday.groupby(['year','week'])['buys_counts'].mean().round().reset_index(name = 'avg_buys_per_day')"
   ]
  },
  {
   "cell_type": "markdown",
   "metadata": {},
   "source": [
    "#### What day of the week do people tend to visit/buy more items?"
   ]
  },
  {
   "cell_type": "code",
   "execution_count": 126,
   "metadata": {
    "scrolled": true
   },
   "outputs": [
    {
     "data": {
      "text/plain": [
       "<Axes: xlabel='weekday'>"
      ]
     },
     "execution_count": 126,
     "metadata": {},
     "output_type": "execute_result"
    },
    {
     "data": {
      "image/png": "[encoded data removed]",
      "text/plain": [
       "<Figure size 640x480 with 1 Axes>"
      ]
     },
     "metadata": {},
     "output_type": "display_data"
    }
   ],
   "source": [
    "df_clicks_weekday.groupby(['weekday'])[['clicks_counts']].mean().round().plot(kind = 'bar', rot = 45)\n",
    "# on saturday and sunday people tend to vistit more items."
   ]
  },
  {
   "cell_type": "code",
   "execution_count": 127,
   "metadata": {},
   "outputs": [
    {
     "data": {
      "text/plain": [
       "<Axes: xlabel='weekday'>"
      ]
     },
     "execution_count": 127,
     "metadata": {},
     "output_type": "execute_result"
    },
    {
     "data": {
      "image/png": "[encoded data removed]",
      "text/plain": [
       "<Figure size 640x480 with 1 Axes>"
      ]
     },
     "metadata": {},
     "output_type": "display_data"
    }
   ],
   "source": [
    "df_buys_weekday.groupby(['weekday'])[['buys_counts']].mean().round().plot(kind = 'bar', rot = 45)\n",
    "# same as clicks, people tend to buy more on Saturday and sunday."
   ]
  },
  {
   "cell_type": "markdown",
   "metadata": {},
   "source": [
    "#### How many sessions are there per category?"
   ]
  },
  {
   "cell_type": "code",
   "execution_count": 128,
   "metadata": {
    "scrolled": true
   },
   "outputs": [
    {
     "data": {
      "text/html": [
       "<div>\n",
       "<style scoped>\n",
       "    .dataframe tbody tr th:only-of-type {\n",
       "        vertical-align: middle;\n",
       "    }\n",
       "\n",
       "    .dataframe tbody tr th {\n",
       "        vertical-align: top;\n",
       "    }\n",
       "\n",
       "    .dataframe thead th {\n",
       "        text-align: right;\n",
       "    }\n",
       "</style>\n",
       "<table border=\"1\" class=\"dataframe\">\n",
       "  <thead>\n",
       "    <tr style=\"text-align: right;\">\n",
       "      <th></th>\n",
       "      <th>sessionID</th>\n",
       "    </tr>\n",
       "    <tr>\n",
       "      <th>cat</th>\n",
       "      <th></th>\n",
       "    </tr>\n",
       "  </thead>\n",
       "  <tbody>\n",
       "    <tr>\n",
       "      <th>0</th>\n",
       "      <td>4599577</td>\n",
       "    </tr>\n",
       "    <tr>\n",
       "      <th>1</th>\n",
       "      <td>597856</td>\n",
       "    </tr>\n",
       "    <tr>\n",
       "      <th>2</th>\n",
       "      <td>511124</td>\n",
       "    </tr>\n",
       "    <tr>\n",
       "      <th>3</th>\n",
       "      <td>270914</td>\n",
       "    </tr>\n",
       "    <tr>\n",
       "      <th>4</th>\n",
       "      <td>177484</td>\n",
       "    </tr>\n",
       "    <tr>\n",
       "      <th>5</th>\n",
       "      <td>208998</td>\n",
       "    </tr>\n",
       "    <tr>\n",
       "      <th>6</th>\n",
       "      <td>173917</td>\n",
       "    </tr>\n",
       "    <tr>\n",
       "      <th>7</th>\n",
       "      <td>157767</td>\n",
       "    </tr>\n",
       "    <tr>\n",
       "      <th>8</th>\n",
       "      <td>17173</td>\n",
       "    </tr>\n",
       "    <tr>\n",
       "      <th>9</th>\n",
       "      <td>51146</td>\n",
       "    </tr>\n",
       "    <tr>\n",
       "      <th>10</th>\n",
       "      <td>26222</td>\n",
       "    </tr>\n",
       "    <tr>\n",
       "      <th>11</th>\n",
       "      <td>32709</td>\n",
       "    </tr>\n",
       "    <tr>\n",
       "      <th>12</th>\n",
       "      <td>10439</td>\n",
       "    </tr>\n",
       "    <tr>\n",
       "      <th>13</th>\n",
       "      <td>3633955</td>\n",
       "    </tr>\n",
       "    <tr>\n",
       "      <th>14</th>\n",
       "      <td>35035</td>\n",
       "    </tr>\n",
       "  </tbody>\n",
       "</table>\n",
       "</div>"
      ],
      "text/plain": [
       "     sessionID\n",
       "cat           \n",
       "0      4599577\n",
       "1       597856\n",
       "2       511124\n",
       "3       270914\n",
       "4       177484\n",
       "5       208998\n",
       "6       173917\n",
       "7       157767\n",
       "8        17173\n",
       "9        51146\n",
       "10       26222\n",
       "11       32709\n",
       "12       10439\n",
       "13     3633955\n",
       "14       35035"
      ]
     },
     "execution_count": 128,
     "metadata": {},
     "output_type": "execute_result"
    }
   ],
   "source": [
    "clicks.drop_duplicates(['cat','sessionID']).groupby('cat')[['sessionID']].count()"
   ]
  },
  {
   "cell_type": "markdown",
   "metadata": {},
   "source": [
    "#### How long is the longest session?"
   ]
  },
  {
   "cell_type": "code",
   "execution_count": 129,
   "metadata": {},
   "outputs": [
    {
     "data": {
      "text/plain": [
       "ts        max    2014-09-04 23:30:29\n",
       "          min    2014-09-02 03:11:31\n",
       "cnt       sum                      0\n",
       "duration             2 days 20:18:58\n",
       "Name: 10145339, dtype: object"
      ]
     },
     "execution_count": 129,
     "metadata": {},
     "output_type": "execute_result"
    }
   ],
   "source": [
    "clicks['cnt']=0\n",
    "a = clicks[['sessionID','ts','cnt']]\n",
    "b = buys[['sessionID','ts','cnt']]\n",
    "combined_data = pd.concat([a,b], ignore_index = True).groupby('sessionID').agg({'ts':['max','min'], 'cnt':'sum'})\n",
    "combined_data['duration'] = combined_data[( 'ts', 'max')] - combined_data[( 'ts', 'min')]\n",
    "combined_data.sort_values('duration', ascending = False).iloc[0]\n",
    "# The longest session is 2 days 20:18:58"
   ]
  },
  {
   "cell_type": "markdown",
   "metadata": {},
   "source": [
    "#### What items were sold in the longest session? When did this happen?"
   ]
  },
  {
   "cell_type": "code",
   "execution_count": 130,
   "metadata": {},
   "outputs": [
    {
     "data": {
      "text/plain": [
       "ts_max       2014-09-10 18:47:05\n",
       "ts_min       2014-09-10 12:44:25\n",
       "cnt_sum                       14\n",
       "duration_        0 days 06:02:40\n",
       "Name: 10504069, dtype: object"
      ]
     },
     "execution_count": 130,
     "metadata": {},
     "output_type": "execute_result"
    }
   ],
   "source": [
    "# during the longest session, nothing is sold, as cnt=0.\n",
    "# But if you want to find the longest session where something is sold, the code is below.\n",
    "combined_data.columns = ['_'.join(col).strip() for col in combined_data.columns.values]\n",
    "combined_data.query('cnt_sum > 0').sort_values(by = 'duration_', ascending = False).iloc[1]\n",
    "# the longest sessionID is 10504069, duration is 0 days 06:02:40"
   ]
  },
  {
   "cell_type": "code",
   "execution_count": 105,
   "metadata": {
    "scrolled": true
   },
   "outputs": [
    {
     "data": {
      "text/html": [
       "<div>\n",
       "<style scoped>\n",
       "    .dataframe tbody tr th:only-of-type {\n",
       "        vertical-align: middle;\n",
       "    }\n",
       "\n",
       "    .dataframe tbody tr th {\n",
       "        vertical-align: top;\n",
       "    }\n",
       "\n",
       "    .dataframe thead th {\n",
       "        text-align: right;\n",
       "    }\n",
       "</style>\n",
       "<table border=\"1\" class=\"dataframe\">\n",
       "  <thead>\n",
       "    <tr style=\"text-align: right;\">\n",
       "      <th></th>\n",
       "      <th>sessionID</th>\n",
       "      <th>ts</th>\n",
       "      <th>itemID</th>\n",
       "      <th>price</th>\n",
       "      <th>cnt</th>\n",
       "      <th>year</th>\n",
       "      <th>month</th>\n",
       "      <th>day</th>\n",
       "      <th>hour</th>\n",
       "      <th>week</th>\n",
       "      <th>weekday</th>\n",
       "    </tr>\n",
       "  </thead>\n",
       "  <tbody>\n",
       "    <tr>\n",
       "      <th>1010857</th>\n",
       "      <td>10504069</td>\n",
       "      <td>2014-09-10 17:58:46</td>\n",
       "      <td>214716945</td>\n",
       "      <td>2093</td>\n",
       "      <td>1</td>\n",
       "      <td>2014</td>\n",
       "      <td>9</td>\n",
       "      <td>10</td>\n",
       "      <td>17</td>\n",
       "      <td>37</td>\n",
       "      <td>2</td>\n",
       "    </tr>\n",
       "    <tr>\n",
       "      <th>1010858</th>\n",
       "      <td>10504069</td>\n",
       "      <td>2014-09-10 17:58:46</td>\n",
       "      <td>214554862</td>\n",
       "      <td>2093</td>\n",
       "      <td>1</td>\n",
       "      <td>2014</td>\n",
       "      <td>9</td>\n",
       "      <td>10</td>\n",
       "      <td>17</td>\n",
       "      <td>37</td>\n",
       "      <td>2</td>\n",
       "    </tr>\n",
       "    <tr>\n",
       "      <th>1010859</th>\n",
       "      <td>10504069</td>\n",
       "      <td>2014-09-10 17:58:46</td>\n",
       "      <td>214855016</td>\n",
       "      <td>1046</td>\n",
       "      <td>1</td>\n",
       "      <td>2014</td>\n",
       "      <td>9</td>\n",
       "      <td>10</td>\n",
       "      <td>17</td>\n",
       "      <td>37</td>\n",
       "      <td>2</td>\n",
       "    </tr>\n",
       "    <tr>\n",
       "      <th>1010860</th>\n",
       "      <td>10504069</td>\n",
       "      <td>2014-09-10 17:58:46</td>\n",
       "      <td>214567404</td>\n",
       "      <td>1046</td>\n",
       "      <td>1</td>\n",
       "      <td>2014</td>\n",
       "      <td>9</td>\n",
       "      <td>10</td>\n",
       "      <td>17</td>\n",
       "      <td>37</td>\n",
       "      <td>2</td>\n",
       "    </tr>\n",
       "    <tr>\n",
       "      <th>1010861</th>\n",
       "      <td>10504069</td>\n",
       "      <td>2014-09-10 17:58:46</td>\n",
       "      <td>214844405</td>\n",
       "      <td>1989</td>\n",
       "      <td>1</td>\n",
       "      <td>2014</td>\n",
       "      <td>9</td>\n",
       "      <td>10</td>\n",
       "      <td>17</td>\n",
       "      <td>37</td>\n",
       "      <td>2</td>\n",
       "    </tr>\n",
       "    <tr>\n",
       "      <th>1010862</th>\n",
       "      <td>10504069</td>\n",
       "      <td>2014-09-10 17:58:46</td>\n",
       "      <td>214848898</td>\n",
       "      <td>37594</td>\n",
       "      <td>1</td>\n",
       "      <td>2014</td>\n",
       "      <td>9</td>\n",
       "      <td>10</td>\n",
       "      <td>17</td>\n",
       "      <td>37</td>\n",
       "      <td>2</td>\n",
       "    </tr>\n",
       "    <tr>\n",
       "      <th>1010863</th>\n",
       "      <td>10504069</td>\n",
       "      <td>2014-09-10 17:58:46</td>\n",
       "      <td>214848977</td>\n",
       "      <td>1779</td>\n",
       "      <td>1</td>\n",
       "      <td>2014</td>\n",
       "      <td>9</td>\n",
       "      <td>10</td>\n",
       "      <td>17</td>\n",
       "      <td>37</td>\n",
       "      <td>2</td>\n",
       "    </tr>\n",
       "    <tr>\n",
       "      <th>1010864</th>\n",
       "      <td>10504069</td>\n",
       "      <td>2014-09-10 17:58:46</td>\n",
       "      <td>214829790</td>\n",
       "      <td>680</td>\n",
       "      <td>2</td>\n",
       "      <td>2014</td>\n",
       "      <td>9</td>\n",
       "      <td>10</td>\n",
       "      <td>17</td>\n",
       "      <td>37</td>\n",
       "      <td>2</td>\n",
       "    </tr>\n",
       "    <tr>\n",
       "      <th>1010865</th>\n",
       "      <td>10504069</td>\n",
       "      <td>2014-09-10 17:58:46</td>\n",
       "      <td>214850949</td>\n",
       "      <td>1360</td>\n",
       "      <td>1</td>\n",
       "      <td>2014</td>\n",
       "      <td>9</td>\n",
       "      <td>10</td>\n",
       "      <td>17</td>\n",
       "      <td>37</td>\n",
       "      <td>2</td>\n",
       "    </tr>\n",
       "    <tr>\n",
       "      <th>1010866</th>\n",
       "      <td>10504069</td>\n",
       "      <td>2014-09-10 17:58:46</td>\n",
       "      <td>214853100</td>\n",
       "      <td>1674</td>\n",
       "      <td>1</td>\n",
       "      <td>2014</td>\n",
       "      <td>9</td>\n",
       "      <td>10</td>\n",
       "      <td>17</td>\n",
       "      <td>37</td>\n",
       "      <td>2</td>\n",
       "    </tr>\n",
       "    <tr>\n",
       "      <th>1010867</th>\n",
       "      <td>10504069</td>\n",
       "      <td>2014-09-10 17:58:46</td>\n",
       "      <td>214854840</td>\n",
       "      <td>523</td>\n",
       "      <td>1</td>\n",
       "      <td>2014</td>\n",
       "      <td>9</td>\n",
       "      <td>10</td>\n",
       "      <td>17</td>\n",
       "      <td>37</td>\n",
       "      <td>2</td>\n",
       "    </tr>\n",
       "    <tr>\n",
       "      <th>1010868</th>\n",
       "      <td>10504069</td>\n",
       "      <td>2014-09-10 17:58:46</td>\n",
       "      <td>214641590</td>\n",
       "      <td>523</td>\n",
       "      <td>1</td>\n",
       "      <td>2014</td>\n",
       "      <td>9</td>\n",
       "      <td>10</td>\n",
       "      <td>17</td>\n",
       "      <td>37</td>\n",
       "      <td>2</td>\n",
       "    </tr>\n",
       "    <tr>\n",
       "      <th>1010869</th>\n",
       "      <td>10504069</td>\n",
       "      <td>2014-09-10 17:58:46</td>\n",
       "      <td>214845416</td>\n",
       "      <td>2303</td>\n",
       "      <td>1</td>\n",
       "      <td>2014</td>\n",
       "      <td>9</td>\n",
       "      <td>10</td>\n",
       "      <td>17</td>\n",
       "      <td>37</td>\n",
       "      <td>2</td>\n",
       "    </tr>\n",
       "  </tbody>\n",
       "</table>\n",
       "</div>"
      ],
      "text/plain": [
       "         sessionID                  ts     itemID  price  cnt  year  month  \\\n",
       "1010857   10504069 2014-09-10 17:58:46  214716945   2093    1  2014      9   \n",
       "1010858   10504069 2014-09-10 17:58:46  214554862   2093    1  2014      9   \n",
       "1010859   10504069 2014-09-10 17:58:46  214855016   1046    1  2014      9   \n",
       "1010860   10504069 2014-09-10 17:58:46  214567404   1046    1  2014      9   \n",
       "1010861   10504069 2014-09-10 17:58:46  214844405   1989    1  2014      9   \n",
       "1010862   10504069 2014-09-10 17:58:46  214848898  37594    1  2014      9   \n",
       "1010863   10504069 2014-09-10 17:58:46  214848977   1779    1  2014      9   \n",
       "1010864   10504069 2014-09-10 17:58:46  214829790    680    2  2014      9   \n",
       "1010865   10504069 2014-09-10 17:58:46  214850949   1360    1  2014      9   \n",
       "1010866   10504069 2014-09-10 17:58:46  214853100   1674    1  2014      9   \n",
       "1010867   10504069 2014-09-10 17:58:46  214854840    523    1  2014      9   \n",
       "1010868   10504069 2014-09-10 17:58:46  214641590    523    1  2014      9   \n",
       "1010869   10504069 2014-09-10 17:58:46  214845416   2303    1  2014      9   \n",
       "\n",
       "         day  hour  week  weekday  \n",
       "1010857   10    17    37        2  \n",
       "1010858   10    17    37        2  \n",
       "1010859   10    17    37        2  \n",
       "1010860   10    17    37        2  \n",
       "1010861   10    17    37        2  \n",
       "1010862   10    17    37        2  \n",
       "1010863   10    17    37        2  \n",
       "1010864   10    17    37        2  \n",
       "1010865   10    17    37        2  \n",
       "1010866   10    17    37        2  \n",
       "1010867   10    17    37        2  \n",
       "1010868   10    17    37        2  \n",
       "1010869   10    17    37        2  "
      ]
     },
     "execution_count": 105,
     "metadata": {},
     "output_type": "execute_result"
    }
   ],
   "source": [
    "buys[buys['sessionID'] == 10504069]\n",
    "# It happened at 2014-09-10 17:58:46, as showed the result 13 items were sold."
   ]
  },
  {
   "cell_type": "markdown",
   "metadata": {},
   "source": [
    "#### Do longer sessions result in more purchases?"
   ]
  },
  {
   "cell_type": "code",
   "execution_count": 135,
   "metadata": {},
   "outputs": [
    {
     "data": {
      "text/plain": [
       "<Axes: xlabel='duration_', ylabel='cnt_sum'>"
      ]
     },
     "execution_count": 135,
     "metadata": {},
     "output_type": "execute_result"
    },
    {
     "data": {
      "image/png": "[encoded data removed]",
      "text/plain": [
       "<Figure size 640x480 with 1 Axes>"
      ]
     },
     "metadata": {},
     "output_type": "display_data"
    }
   ],
   "source": [
    "combined_data.plot(kind = 'scatter', x= 'duration_', y = 'cnt_sum' )\n",
    "# According to the result, longer sessions does not result in more purchases."
   ]
  },
  {
   "cell_type": "markdown",
   "metadata": {},
   "source": [
    "#### Is there a relationship between session length and number of purchases?"
   ]
  },
  {
   "cell_type": "code",
   "execution_count": 136,
   "metadata": {},
   "outputs": [
    {
     "data": {
      "text/html": [
       "<div>\n",
       "<style scoped>\n",
       "    .dataframe tbody tr th:only-of-type {\n",
       "        vertical-align: middle;\n",
       "    }\n",
       "\n",
       "    .dataframe tbody tr th {\n",
       "        vertical-align: top;\n",
       "    }\n",
       "\n",
       "    .dataframe thead th {\n",
       "        text-align: right;\n",
       "    }\n",
       "</style>\n",
       "<table border=\"1\" class=\"dataframe\">\n",
       "  <thead>\n",
       "    <tr style=\"text-align: right;\">\n",
       "      <th></th>\n",
       "      <th>duration_</th>\n",
       "      <th>cnt_sum</th>\n",
       "    </tr>\n",
       "  </thead>\n",
       "  <tbody>\n",
       "    <tr>\n",
       "      <th>duration_</th>\n",
       "      <td>1.000000</td>\n",
       "      <td>0.138236</td>\n",
       "    </tr>\n",
       "    <tr>\n",
       "      <th>cnt_sum</th>\n",
       "      <td>0.138236</td>\n",
       "      <td>1.000000</td>\n",
       "    </tr>\n",
       "  </tbody>\n",
       "</table>\n",
       "</div>"
      ],
      "text/plain": [
       "           duration_   cnt_sum\n",
       "duration_   1.000000  0.138236\n",
       "cnt_sum     0.138236  1.000000"
      ]
     },
     "execution_count": 136,
     "metadata": {},
     "output_type": "execute_result"
    }
   ],
   "source": [
    "combined_data[['duration_', 'cnt_sum']].corr()\n",
    "# the coefience is 0.138, so there is no evidence that they have a relationship."
   ]
  },
  {
   "cell_type": "markdown",
   "metadata": {},
   "source": [
    "#### What are the most popular (most sold) items?"
   ]
  },
  {
   "cell_type": "code",
   "execution_count": 143,
   "metadata": {},
   "outputs": [
    {
     "data": {
      "text/plain": [
       "itemID       214853420\n",
       "cnt_total        10226\n",
       "Name: 18405, dtype: int64"
      ]
     },
     "execution_count": 143,
     "metadata": {},
     "output_type": "execute_result"
    }
   ],
   "source": [
    "buys.groupby('itemID')['cnt'].sum().reset_index(name = 'cnt_total').sort_values('cnt_total', ascending = False).iloc[0]\n",
    "# the most sold item is 214853420, 10226 were sold."
   ]
  },
  {
   "cell_type": "markdown",
   "metadata": {},
   "source": [
    "#### What general marketing strategies (in terms of sending promotional emails, site advertising or personalised recommendations) can you think of for this online retailer?"
   ]
  },
  {
   "cell_type": "code",
   "execution_count": 148,
   "metadata": {},
   "outputs": [
    {
     "name": "stdout",
     "output_type": "stream",
     "text": [
      "5.51\n",
      "2.53\n"
     ]
    }
   ],
   "source": [
    "convertion_rate = round(buys['sessionID'].unique().size/clicks['sessionID'].unique().size*100, 2)\n",
    "print(convertion_rate)\n",
    "# The convertion rate is only 5.51%, this is very high and suspicious. we need to check the buys data set.\n",
    "\n",
    "buys['cnt'].value_counts()\n",
    "# There are 610030 rows where cnt = 0, we need to remove these.\n",
    "\n",
    "buy_size = buys.query('cnt != 0')['sessionID'].unique().size\n",
    "real_conversion_rate = round(buy_size/clicks['sessionID'].unique().size*100, 2)\n",
    "print(real_conversion_rate)\n",
    "# The real conversion rate is 2.53%, we could personalise recommandation to target more precise the clients."
   ]
  },
  {
   "cell_type": "code",
   "execution_count": 169,
   "metadata": {},
   "outputs": [
    {
     "data": {
      "text/html": [
       "<div>\n",
       "<style scoped>\n",
       "    .dataframe tbody tr th:only-of-type {\n",
       "        vertical-align: middle;\n",
       "    }\n",
       "\n",
       "    .dataframe tbody tr th {\n",
       "        vertical-align: top;\n",
       "    }\n",
       "\n",
       "    .dataframe thead th {\n",
       "        text-align: right;\n",
       "    }\n",
       "</style>\n",
       "<table border=\"1\" class=\"dataframe\">\n",
       "  <thead>\n",
       "    <tr style=\"text-align: right;\">\n",
       "      <th></th>\n",
       "      <th>itemID</th>\n",
       "      <th>clicks_num</th>\n",
       "      <th>buys_num</th>\n",
       "      <th>convertion_rate</th>\n",
       "    </tr>\n",
       "  </thead>\n",
       "  <tbody>\n",
       "    <tr>\n",
       "      <th>0</th>\n",
       "      <td>643078800</td>\n",
       "      <td>147419</td>\n",
       "      <td>0.0</td>\n",
       "      <td>0.000000</td>\n",
       "    </tr>\n",
       "    <tr>\n",
       "      <th>1</th>\n",
       "      <td>214853094</td>\n",
       "      <td>125690</td>\n",
       "      <td>3589.0</td>\n",
       "      <td>0.028554</td>\n",
       "    </tr>\n",
       "    <tr>\n",
       "      <th>2</th>\n",
       "      <td>214829878</td>\n",
       "      <td>113488</td>\n",
       "      <td>768.0</td>\n",
       "      <td>0.006767</td>\n",
       "    </tr>\n",
       "    <tr>\n",
       "      <th>3</th>\n",
       "      <td>214853420</td>\n",
       "      <td>78448</td>\n",
       "      <td>10226.0</td>\n",
       "      <td>0.130354</td>\n",
       "    </tr>\n",
       "    <tr>\n",
       "      <th>4</th>\n",
       "      <td>214826610</td>\n",
       "      <td>69710</td>\n",
       "      <td>2594.0</td>\n",
       "      <td>0.037211</td>\n",
       "    </tr>\n",
       "  </tbody>\n",
       "</table>\n",
       "</div>"
      ],
      "text/plain": [
       "      itemID  clicks_num  buys_num  convertion_rate\n",
       "0  643078800      147419       0.0         0.000000\n",
       "1  214853094      125690    3589.0         0.028554\n",
       "2  214829878      113488     768.0         0.006767\n",
       "3  214853420       78448   10226.0         0.130354\n",
       "4  214826610       69710    2594.0         0.037211"
      ]
     },
     "execution_count": 169,
     "metadata": {},
     "output_type": "execute_result"
    }
   ],
   "source": [
    "# find convertion rate for each item\n",
    "a = clicks['itemID'].value_counts().reset_index(name = 'clicks_num')\n",
    "b = buys.groupby(['itemID'])['cnt'].sum().reset_index(name = 'buys_num')\n",
    "merge_table = pd.merge(a,b, on = 'itemID', how = 'left')\n",
    "merge_table['convertion_rate'] = merge_table['buys_num']/merge_table['clicks_num']\n",
    "merge_table.sort_values('convertion_rate', ascending = False)\n",
    "merge_table.head(5)\n",
    "# could put high convertion rate items at obvious place on website, give more traffic."
   ]
  },
  {
   "cell_type": "code",
   "execution_count": 170,
   "metadata": {},
   "outputs": [
    {
     "data": {
      "image/png": "[encoded data removed]",
      "text/plain": [
       "<Figure size 640x480 with 1 Axes>"
      ]
     },
     "metadata": {},
     "output_type": "display_data"
    }
   ],
   "source": [
    "# find the popular items :high clicks numbers and high buy numbers. \n",
    "merge_table.plot(kind = 'scatter', x= 'clicks_num', y = 'buys_num');\n",
    "# Put these items on obvious place to attract attention and traffic."
   ]
  },
  {
   "cell_type": "code",
   "execution_count": 171,
   "metadata": {},
   "outputs": [
    {
     "data": {
      "text/html": [
       "<div>\n",
       "<style scoped>\n",
       "    .dataframe tbody tr th:only-of-type {\n",
       "        vertical-align: middle;\n",
       "    }\n",
       "\n",
       "    .dataframe tbody tr th {\n",
       "        vertical-align: top;\n",
       "    }\n",
       "\n",
       "    .dataframe thead th {\n",
       "        text-align: right;\n",
       "    }\n",
       "</style>\n",
       "<table border=\"1\" class=\"dataframe\">\n",
       "  <thead>\n",
       "    <tr style=\"text-align: right;\">\n",
       "      <th></th>\n",
       "      <th>itemID</th>\n",
       "      <th>clicks_num</th>\n",
       "      <th>buys_num</th>\n",
       "      <th>convertion_rate</th>\n",
       "    </tr>\n",
       "  </thead>\n",
       "  <tbody>\n",
       "    <tr>\n",
       "      <th>501</th>\n",
       "      <td>643078783</td>\n",
       "      <td>12910</td>\n",
       "      <td>NaN</td>\n",
       "      <td>NaN</td>\n",
       "    </tr>\n",
       "    <tr>\n",
       "      <th>1008</th>\n",
       "      <td>214601177</td>\n",
       "      <td>7820</td>\n",
       "      <td>NaN</td>\n",
       "      <td>NaN</td>\n",
       "    </tr>\n",
       "    <tr>\n",
       "      <th>2000</th>\n",
       "      <td>214551581</td>\n",
       "      <td>4003</td>\n",
       "      <td>NaN</td>\n",
       "      <td>NaN</td>\n",
       "    </tr>\n",
       "    <tr>\n",
       "      <th>2123</th>\n",
       "      <td>214842324</td>\n",
       "      <td>3667</td>\n",
       "      <td>NaN</td>\n",
       "      <td>NaN</td>\n",
       "    </tr>\n",
       "    <tr>\n",
       "      <th>2136</th>\n",
       "      <td>214650506</td>\n",
       "      <td>3633</td>\n",
       "      <td>NaN</td>\n",
       "      <td>NaN</td>\n",
       "    </tr>\n",
       "    <tr>\n",
       "      <th>2140</th>\n",
       "      <td>214553593</td>\n",
       "      <td>3623</td>\n",
       "      <td>NaN</td>\n",
       "      <td>NaN</td>\n",
       "    </tr>\n",
       "    <tr>\n",
       "      <th>2148</th>\n",
       "      <td>214835282</td>\n",
       "      <td>3604</td>\n",
       "      <td>NaN</td>\n",
       "      <td>NaN</td>\n",
       "    </tr>\n",
       "    <tr>\n",
       "      <th>2160</th>\n",
       "      <td>214836782</td>\n",
       "      <td>3579</td>\n",
       "      <td>NaN</td>\n",
       "      <td>NaN</td>\n",
       "    </tr>\n",
       "    <tr>\n",
       "      <th>2170</th>\n",
       "      <td>214556270</td>\n",
       "      <td>3550</td>\n",
       "      <td>NaN</td>\n",
       "      <td>NaN</td>\n",
       "    </tr>\n",
       "    <tr>\n",
       "      <th>2436</th>\n",
       "      <td>214685805</td>\n",
       "      <td>3065</td>\n",
       "      <td>NaN</td>\n",
       "      <td>NaN</td>\n",
       "    </tr>\n",
       "    <tr>\n",
       "      <th>2574</th>\n",
       "      <td>214700610</td>\n",
       "      <td>2837</td>\n",
       "      <td>NaN</td>\n",
       "      <td>NaN</td>\n",
       "    </tr>\n",
       "    <tr>\n",
       "      <th>2595</th>\n",
       "      <td>214558314</td>\n",
       "      <td>2801</td>\n",
       "      <td>NaN</td>\n",
       "      <td>NaN</td>\n",
       "    </tr>\n",
       "    <tr>\n",
       "      <th>2638</th>\n",
       "      <td>214546959</td>\n",
       "      <td>2744</td>\n",
       "      <td>NaN</td>\n",
       "      <td>NaN</td>\n",
       "    </tr>\n",
       "    <tr>\n",
       "      <th>2665</th>\n",
       "      <td>214537764</td>\n",
       "      <td>2710</td>\n",
       "      <td>NaN</td>\n",
       "      <td>NaN</td>\n",
       "    </tr>\n",
       "    <tr>\n",
       "      <th>2676</th>\n",
       "      <td>214509082</td>\n",
       "      <td>2700</td>\n",
       "      <td>NaN</td>\n",
       "      <td>NaN</td>\n",
       "    </tr>\n",
       "    <tr>\n",
       "      <th>2718</th>\n",
       "      <td>214569727</td>\n",
       "      <td>2660</td>\n",
       "      <td>NaN</td>\n",
       "      <td>NaN</td>\n",
       "    </tr>\n",
       "    <tr>\n",
       "      <th>2787</th>\n",
       "      <td>214668594</td>\n",
       "      <td>2564</td>\n",
       "      <td>NaN</td>\n",
       "      <td>NaN</td>\n",
       "    </tr>\n",
       "    <tr>\n",
       "      <th>2950</th>\n",
       "      <td>214600925</td>\n",
       "      <td>2333</td>\n",
       "      <td>NaN</td>\n",
       "      <td>NaN</td>\n",
       "    </tr>\n",
       "    <tr>\n",
       "      <th>2978</th>\n",
       "      <td>214644860</td>\n",
       "      <td>2300</td>\n",
       "      <td>NaN</td>\n",
       "      <td>NaN</td>\n",
       "    </tr>\n",
       "    <tr>\n",
       "      <th>2991</th>\n",
       "      <td>214668294</td>\n",
       "      <td>2289</td>\n",
       "      <td>NaN</td>\n",
       "      <td>NaN</td>\n",
       "    </tr>\n",
       "  </tbody>\n",
       "</table>\n",
       "</div>"
      ],
      "text/plain": [
       "         itemID  clicks_num  buys_num  convertion_rate\n",
       "501   643078783       12910       NaN              NaN\n",
       "1008  214601177        7820       NaN              NaN\n",
       "2000  214551581        4003       NaN              NaN\n",
       "2123  214842324        3667       NaN              NaN\n",
       "2136  214650506        3633       NaN              NaN\n",
       "2140  214553593        3623       NaN              NaN\n",
       "2148  214835282        3604       NaN              NaN\n",
       "2160  214836782        3579       NaN              NaN\n",
       "2170  214556270        3550       NaN              NaN\n",
       "2436  214685805        3065       NaN              NaN\n",
       "2574  214700610        2837       NaN              NaN\n",
       "2595  214558314        2801       NaN              NaN\n",
       "2638  214546959        2744       NaN              NaN\n",
       "2665  214537764        2710       NaN              NaN\n",
       "2676  214509082        2700       NaN              NaN\n",
       "2718  214569727        2660       NaN              NaN\n",
       "2787  214668594        2564       NaN              NaN\n",
       "2950  214600925        2333       NaN              NaN\n",
       "2978  214644860        2300       NaN              NaN\n",
       "2991  214668294        2289       NaN              NaN"
      ]
     },
     "execution_count": 171,
     "metadata": {},
     "output_type": "execute_result"
    }
   ],
   "source": [
    "# find high clicks but no convertion items\n",
    "merge_table.query('buys_num.isna()').sort_values('clicks_num', ascending = False).head(20)\n",
    "# check those items and give them less traffic or remove them."
   ]
  },
  {
   "cell_type": "code",
   "execution_count": 172,
   "metadata": {},
   "outputs": [
    {
     "data": {
      "text/html": [
       "<div>\n",
       "<style scoped>\n",
       "    .dataframe tbody tr th:only-of-type {\n",
       "        vertical-align: middle;\n",
       "    }\n",
       "\n",
       "    .dataframe tbody tr th {\n",
       "        vertical-align: top;\n",
       "    }\n",
       "\n",
       "    .dataframe thead th {\n",
       "        text-align: right;\n",
       "    }\n",
       "</style>\n",
       "<table border=\"1\" class=\"dataframe\">\n",
       "  <thead>\n",
       "    <tr style=\"text-align: right;\">\n",
       "      <th></th>\n",
       "      <th>cnt</th>\n",
       "      <th>price</th>\n",
       "    </tr>\n",
       "    <tr>\n",
       "      <th>itemID</th>\n",
       "      <th></th>\n",
       "      <th></th>\n",
       "    </tr>\n",
       "  </thead>\n",
       "  <tbody>\n",
       "    <tr>\n",
       "      <th>214853072</th>\n",
       "      <td>1560</td>\n",
       "      <td>24097314</td>\n",
       "    </tr>\n",
       "    <tr>\n",
       "      <th>214840762</th>\n",
       "      <td>639</td>\n",
       "      <td>18260625</td>\n",
       "    </tr>\n",
       "    <tr>\n",
       "      <th>214854707</th>\n",
       "      <td>1182</td>\n",
       "      <td>17693904</td>\n",
       "    </tr>\n",
       "    <tr>\n",
       "      <th>214853094</th>\n",
       "      <td>3589</td>\n",
       "      <td>14750136</td>\n",
       "    </tr>\n",
       "    <tr>\n",
       "      <th>214650508</th>\n",
       "      <td>204</td>\n",
       "      <td>14660954</td>\n",
       "    </tr>\n",
       "    <tr>\n",
       "      <th>214701787</th>\n",
       "      <td>1073</td>\n",
       "      <td>13127172</td>\n",
       "    </tr>\n",
       "    <tr>\n",
       "      <th>214859139</th>\n",
       "      <td>589</td>\n",
       "      <td>11147003</td>\n",
       "    </tr>\n",
       "    <tr>\n",
       "      <th>214833800</th>\n",
       "      <td>385</td>\n",
       "      <td>11030918</td>\n",
       "    </tr>\n",
       "    <tr>\n",
       "      <th>214510445</th>\n",
       "      <td>1328</td>\n",
       "      <td>10840334</td>\n",
       "    </tr>\n",
       "    <tr>\n",
       "      <th>214853096</th>\n",
       "      <td>2077</td>\n",
       "      <td>10653225</td>\n",
       "    </tr>\n",
       "    <tr>\n",
       "      <th>214601197</th>\n",
       "      <td>458</td>\n",
       "      <td>9483951</td>\n",
       "    </tr>\n",
       "    <tr>\n",
       "      <th>214859242</th>\n",
       "      <td>531</td>\n",
       "      <td>9211214</td>\n",
       "    </tr>\n",
       "    <tr>\n",
       "      <th>214696434</th>\n",
       "      <td>302</td>\n",
       "      <td>9205434</td>\n",
       "    </tr>\n",
       "    <tr>\n",
       "      <th>214853122</th>\n",
       "      <td>896</td>\n",
       "      <td>8991166</td>\n",
       "    </tr>\n",
       "    <tr>\n",
       "      <th>214680371</th>\n",
       "      <td>991</td>\n",
       "      <td>8934496</td>\n",
       "    </tr>\n",
       "    <tr>\n",
       "      <th>214578011</th>\n",
       "      <td>585</td>\n",
       "      <td>8321946</td>\n",
       "    </tr>\n",
       "    <tr>\n",
       "      <th>214844158</th>\n",
       "      <td>79</td>\n",
       "      <td>8151517</td>\n",
       "    </tr>\n",
       "    <tr>\n",
       "      <th>214853077</th>\n",
       "      <td>2277</td>\n",
       "      <td>8057136</td>\n",
       "    </tr>\n",
       "    <tr>\n",
       "      <th>214851279</th>\n",
       "      <td>622</td>\n",
       "      <td>7858808</td>\n",
       "    </tr>\n",
       "    <tr>\n",
       "      <th>214714880</th>\n",
       "      <td>730</td>\n",
       "      <td>7549591</td>\n",
       "    </tr>\n",
       "  </tbody>\n",
       "</table>\n",
       "</div>"
      ],
      "text/plain": [
       "            cnt     price\n",
       "itemID                   \n",
       "214853072  1560  24097314\n",
       "214840762   639  18260625\n",
       "214854707  1182  17693904\n",
       "214853094  3589  14750136\n",
       "214650508   204  14660954\n",
       "214701787  1073  13127172\n",
       "214859139   589  11147003\n",
       "214833800   385  11030918\n",
       "214510445  1328  10840334\n",
       "214853096  2077  10653225\n",
       "214601197   458   9483951\n",
       "214859242   531   9211214\n",
       "214696434   302   9205434\n",
       "214853122   896   8991166\n",
       "214680371   991   8934496\n",
       "214578011   585   8321946\n",
       "214844158    79   8151517\n",
       "214853077  2277   8057136\n",
       "214851279   622   7858808\n",
       "214714880   730   7549591"
      ]
     },
     "execution_count": 172,
     "metadata": {},
     "output_type": "execute_result"
    }
   ],
   "source": [
    "# find the 20 item which generate the biggest revenue\n",
    "buys.groupby('itemID').agg({'cnt': 'sum', 'price':'sum'}).sort_values('price', ascending = False).head(20)\n",
    "# give these high items more traffic."
   ]
  }
 ],
 "metadata": {
  "kernelspec": {
   "display_name": "Python 3 (ipykernel)",
   "language": "python",
   "name": "python3"
  },
  "language_info": {
   "codemirror_mode": {
    "name": "ipython",
    "version": 3
   },
   "file_extension": ".py",
   "mimetype": "text/x-python",
   "name": "python",
   "nbconvert_exporter": "python",
   "pygments_lexer": "ipython3",
   "version": "3.11.5"
  }
 },
 "nbformat": 4,
 "nbformat_minor": 2
}

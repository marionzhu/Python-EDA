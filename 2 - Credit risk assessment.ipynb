{
 "cells": [
  {
   "cell_type": "markdown",
   "metadata": {},
   "source": [
    "<div>\n",
    "    <img src=\"emlyon.png\" style=\"height:60px; float:left; padding-right:10px; margin-top:5px\" />\n",
    "    <span>\n",
    "        <h1 style=\"padding-bottom:5px;\"> Credit risk assessment </h1>\n",
    "        <a href=\"https://masters.em-lyon.com/en/msc-in-digital-marketing-data-science\">[Emlyon]</a> MSc in Digital Marketing & Data Science (DMDS) <br/>\n",
    "         September 2023, Paris | © Saeed VARASTEH [RP] | Jean SAVINIEN\n",
    "    </span>\n",
    "</div>"
   ]
  },
  {
   "cell_type": "code",
   "execution_count": 1,
   "metadata": {},
   "outputs": [],
   "source": [
    "# import libraries\n",
    "import numpy as np\n",
    "import pandas as pd\n",
    "import matplotlib.pyplot as plt\n",
    "import seaborn as sns"
   ]
  },
  {
   "cell_type": "markdown",
   "metadata": {},
   "source": [
    "<div style=\"color:gray; background-color:#eeeeee\">\n",
    "    Credit risk assessment\n",
    "</div>\n",
    "\n",
    "\n",
    "You are given a file named __risk.csv__.\n",
    "\n",
    "In this file, you have information about several individuals, their loan status, and their credit scores.\n",
    "\n",
    "Here are the columns descriptions:\n",
    "\n",
    "- __person_age__ \tPerson age\n",
    "- __person_income__ \tPerson annual income\n",
    "- __person_home_ownership__ \tPerson home ownership\n",
    "- __person_emp_length__ \tEmployment length (in years)\n",
    "- __loan_intent__ \tLoan intention\n",
    "- __loan_amnt__ \tLoan total amount\n",
    "- __loan_int_rate__ \tLoan interest rate\n",
    "- __loan_status__ \tLoan status (0 is non default 1 is default)\n",
    "- __loan_percent_income__ \tPercent income\n",
    "- __cb_person_default_on_file__ \tHistorical default\n",
    "- __cb_preson_cred_hist_length__ \tCredit history length\n",
    "\n",
    "---"
   ]
  },
  {
   "cell_type": "markdown",
   "metadata": {},
   "source": [
    "<div style=\"color:gray; background-color:#eeeeee\">\n",
    "PART ONE\n",
    "</div>\n"
   ]
  },
  {
   "cell_type": "markdown",
   "metadata": {},
   "source": [
    "__Q1__ Read the file into a Pandas `DataFrame` and print the first 3 rows of data. Name your dataframe as __df__."
   ]
  },
  {
   "cell_type": "code",
   "execution_count": 6,
   "metadata": {},
   "outputs": [
    {
     "data": {
      "text/html": [
       "<div>\n",
       "<style scoped>\n",
       "    .dataframe tbody tr th:only-of-type {\n",
       "        vertical-align: middle;\n",
       "    }\n",
       "\n",
       "    .dataframe tbody tr th {\n",
       "        vertical-align: top;\n",
       "    }\n",
       "\n",
       "    .dataframe thead th {\n",
       "        text-align: right;\n",
       "    }\n",
       "</style>\n",
       "<table border=\"1\" class=\"dataframe\">\n",
       "  <thead>\n",
       "    <tr style=\"text-align: right;\">\n",
       "      <th></th>\n",
       "      <th>person_age</th>\n",
       "      <th>person_income</th>\n",
       "      <th>person_home_ownership</th>\n",
       "      <th>person_emp_length</th>\n",
       "      <th>loan_intent</th>\n",
       "      <th>loan_amnt</th>\n",
       "      <th>loan_int_rate</th>\n",
       "      <th>loan_status</th>\n",
       "      <th>loan_percent_income</th>\n",
       "      <th>cb_person_default_on_file</th>\n",
       "      <th>cb_person_cred_hist_length</th>\n",
       "    </tr>\n",
       "  </thead>\n",
       "  <tbody>\n",
       "    <tr>\n",
       "      <th>0</th>\n",
       "      <td>22</td>\n",
       "      <td>59000</td>\n",
       "      <td>RENT</td>\n",
       "      <td>123.0</td>\n",
       "      <td>PERSONAL</td>\n",
       "      <td>35000</td>\n",
       "      <td>16.02</td>\n",
       "      <td>1</td>\n",
       "      <td>0.59</td>\n",
       "      <td>Y</td>\n",
       "      <td>3</td>\n",
       "    </tr>\n",
       "    <tr>\n",
       "      <th>1</th>\n",
       "      <td>21</td>\n",
       "      <td>9600</td>\n",
       "      <td>OWN</td>\n",
       "      <td>5.0</td>\n",
       "      <td>EDUCATION</td>\n",
       "      <td>1000</td>\n",
       "      <td>11.14</td>\n",
       "      <td>0</td>\n",
       "      <td>0.10</td>\n",
       "      <td>N</td>\n",
       "      <td>2</td>\n",
       "    </tr>\n",
       "    <tr>\n",
       "      <th>2</th>\n",
       "      <td>25</td>\n",
       "      <td>9600</td>\n",
       "      <td>MORTGAGE</td>\n",
       "      <td>1.0</td>\n",
       "      <td>MEDICAL</td>\n",
       "      <td>5500</td>\n",
       "      <td>12.87</td>\n",
       "      <td>1</td>\n",
       "      <td>0.57</td>\n",
       "      <td>N</td>\n",
       "      <td>3</td>\n",
       "    </tr>\n",
       "  </tbody>\n",
       "</table>\n",
       "</div>"
      ],
      "text/plain": [
       "   person_age  person_income person_home_ownership  person_emp_length  \\\n",
       "0          22          59000                  RENT              123.0   \n",
       "1          21           9600                   OWN                5.0   \n",
       "2          25           9600              MORTGAGE                1.0   \n",
       "\n",
       "  loan_intent  loan_amnt  loan_int_rate  loan_status  loan_percent_income  \\\n",
       "0    PERSONAL      35000          16.02            1                 0.59   \n",
       "1   EDUCATION       1000          11.14            0                 0.10   \n",
       "2     MEDICAL       5500          12.87            1                 0.57   \n",
       "\n",
       "  cb_person_default_on_file  cb_person_cred_hist_length  \n",
       "0                         Y                           3  \n",
       "1                         N                           2  \n",
       "2                         N                           3  "
      ]
     },
     "execution_count": 6,
     "metadata": {},
     "output_type": "execute_result"
    }
   ],
   "source": [
    "df = pd.read_csv('/Users/zhusijie/Desktop/Fundamentals of python/DMDS Final Exam Dec 2023/risks.csv')\n",
    "df.head(3)"
   ]
  },
  {
   "cell_type": "markdown",
   "metadata": {},
   "source": [
    "__Q2__ Check the dimensions. How many rows and columns do you have in the data set? "
   ]
  },
  {
   "cell_type": "code",
   "execution_count": 8,
   "metadata": {},
   "outputs": [
    {
     "data": {
      "text/plain": [
       "(32581, 11)"
      ]
     },
     "execution_count": 8,
     "metadata": {},
     "output_type": "execute_result"
    }
   ],
   "source": [
    "df.shape"
   ]
  },
  {
   "cell_type": "markdown",
   "metadata": {},
   "source": [
    "__Q3__ Check for missing values and delete the rows with missing values if you have any."
   ]
  },
  {
   "cell_type": "code",
   "execution_count": 119,
   "metadata": {
    "collapsed": true
   },
   "outputs": [
    {
     "data": {
      "text/plain": [
       "person_age               0\n",
       "person_income            0\n",
       "person_home_ownership    0\n",
       "person_emp_length        0\n",
       "loan_intent              0\n",
       "loan_amnt                0\n",
       "loan_status              0\n",
       "dtype: int64"
      ]
     },
     "execution_count": 119,
     "metadata": {},
     "output_type": "execute_result"
    }
   ],
   "source": [
    "df.isna().sum()\n",
    "# person_emp_length has 895 missing values and loan_int_rate has 3116 missing values\n",
    "df = df.dropna()\n",
    "# remove missing values "
   ]
  },
  {
   "cell_type": "markdown",
   "metadata": {},
   "source": [
    "__Q4__ What are the minimum and maximum values of __person_income__ column?"
   ]
  },
  {
   "cell_type": "code",
   "execution_count": 15,
   "metadata": {},
   "outputs": [
    {
     "data": {
      "text/plain": [
       "4000"
      ]
     },
     "execution_count": 15,
     "metadata": {},
     "output_type": "execute_result"
    }
   ],
   "source": [
    "df['person_income'].max()\n",
    "df['person_income'].min()"
   ]
  },
  {
   "cell_type": "markdown",
   "metadata": {},
   "source": [
    "__Q5__ What are the unique values in the __loan_intent__ column?"
   ]
  },
  {
   "cell_type": "code",
   "execution_count": 16,
   "metadata": {},
   "outputs": [
    {
     "data": {
      "text/plain": [
       "array(['PERSONAL', 'EDUCATION', 'MEDICAL', 'VENTURE', 'HOMEIMPROVEMENT',\n",
       "       'DEBTCONSOLIDATION'], dtype=object)"
      ]
     },
     "execution_count": 16,
     "metadata": {},
     "output_type": "execute_result"
    }
   ],
   "source": [
    "df['loan_intent'].unique()"
   ]
  },
  {
   "cell_type": "markdown",
   "metadata": {},
   "source": [
    "__Q6__ How many samples do we have in the dataset for each __loan_intent__ category?"
   ]
  },
  {
   "cell_type": "code",
   "execution_count": 19,
   "metadata": {},
   "outputs": [
    {
     "data": {
      "text/plain": [
       "loan_intent\n",
       "DEBTCONSOLIDATION    4565\n",
       "EDUCATION            5704\n",
       "HOMEIMPROVEMENT      3198\n",
       "MEDICAL              5293\n",
       "PERSONAL             4877\n",
       "VENTURE              5001\n",
       "dtype: int64"
      ]
     },
     "execution_count": 19,
     "metadata": {},
     "output_type": "execute_result"
    }
   ],
   "source": [
    "df.groupby('loan_intent').size()"
   ]
  },
  {
   "cell_type": "markdown",
   "metadata": {},
   "source": [
    "__Q7__ Select all rows where the __loan_intent__ is \"EDUCATION\" or \"MEDICAL\". Name this dataframe as __df_new__. "
   ]
  },
  {
   "cell_type": "code",
   "execution_count": 21,
   "metadata": {},
   "outputs": [
    {
     "data": {
      "text/html": [
       "<div>\n",
       "<style scoped>\n",
       "    .dataframe tbody tr th:only-of-type {\n",
       "        vertical-align: middle;\n",
       "    }\n",
       "\n",
       "    .dataframe tbody tr th {\n",
       "        vertical-align: top;\n",
       "    }\n",
       "\n",
       "    .dataframe thead th {\n",
       "        text-align: right;\n",
       "    }\n",
       "</style>\n",
       "<table border=\"1\" class=\"dataframe\">\n",
       "  <thead>\n",
       "    <tr style=\"text-align: right;\">\n",
       "      <th></th>\n",
       "      <th>person_age</th>\n",
       "      <th>person_income</th>\n",
       "      <th>person_home_ownership</th>\n",
       "      <th>person_emp_length</th>\n",
       "      <th>loan_intent</th>\n",
       "      <th>loan_amnt</th>\n",
       "      <th>loan_int_rate</th>\n",
       "      <th>loan_status</th>\n",
       "      <th>loan_percent_income</th>\n",
       "      <th>cb_person_default_on_file</th>\n",
       "      <th>cb_person_cred_hist_length</th>\n",
       "    </tr>\n",
       "  </thead>\n",
       "  <tbody>\n",
       "    <tr>\n",
       "      <th>15093</th>\n",
       "      <td>25</td>\n",
       "      <td>121000</td>\n",
       "      <td>MORTGAGE</td>\n",
       "      <td>9.0</td>\n",
       "      <td>MEDICAL</td>\n",
       "      <td>13600</td>\n",
       "      <td>11.99</td>\n",
       "      <td>0</td>\n",
       "      <td>0.11</td>\n",
       "      <td>N</td>\n",
       "      <td>2</td>\n",
       "    </tr>\n",
       "    <tr>\n",
       "      <th>1507</th>\n",
       "      <td>24</td>\n",
       "      <td>26000</td>\n",
       "      <td>RENT</td>\n",
       "      <td>2.0</td>\n",
       "      <td>MEDICAL</td>\n",
       "      <td>1325</td>\n",
       "      <td>12.87</td>\n",
       "      <td>1</td>\n",
       "      <td>0.05</td>\n",
       "      <td>N</td>\n",
       "      <td>4</td>\n",
       "    </tr>\n",
       "    <tr>\n",
       "      <th>2879</th>\n",
       "      <td>22</td>\n",
       "      <td>35000</td>\n",
       "      <td>MORTGAGE</td>\n",
       "      <td>5.0</td>\n",
       "      <td>MEDICAL</td>\n",
       "      <td>5000</td>\n",
       "      <td>7.90</td>\n",
       "      <td>0</td>\n",
       "      <td>0.14</td>\n",
       "      <td>N</td>\n",
       "      <td>3</td>\n",
       "    </tr>\n",
       "    <tr>\n",
       "      <th>23643</th>\n",
       "      <td>31</td>\n",
       "      <td>45000</td>\n",
       "      <td>RENT</td>\n",
       "      <td>2.0</td>\n",
       "      <td>EDUCATION</td>\n",
       "      <td>9000</td>\n",
       "      <td>12.84</td>\n",
       "      <td>0</td>\n",
       "      <td>0.20</td>\n",
       "      <td>N</td>\n",
       "      <td>5</td>\n",
       "    </tr>\n",
       "    <tr>\n",
       "      <th>23445</th>\n",
       "      <td>27</td>\n",
       "      <td>62570</td>\n",
       "      <td>MORTGAGE</td>\n",
       "      <td>11.0</td>\n",
       "      <td>EDUCATION</td>\n",
       "      <td>25000</td>\n",
       "      <td>14.84</td>\n",
       "      <td>0</td>\n",
       "      <td>0.40</td>\n",
       "      <td>N</td>\n",
       "      <td>5</td>\n",
       "    </tr>\n",
       "  </tbody>\n",
       "</table>\n",
       "</div>"
      ],
      "text/plain": [
       "       person_age  person_income person_home_ownership  person_emp_length  \\\n",
       "15093          25         121000              MORTGAGE                9.0   \n",
       "1507           24          26000                  RENT                2.0   \n",
       "2879           22          35000              MORTGAGE                5.0   \n",
       "23643          31          45000                  RENT                2.0   \n",
       "23445          27          62570              MORTGAGE               11.0   \n",
       "\n",
       "      loan_intent  loan_amnt  loan_int_rate  loan_status  loan_percent_income  \\\n",
       "15093     MEDICAL      13600          11.99            0                 0.11   \n",
       "1507      MEDICAL       1325          12.87            1                 0.05   \n",
       "2879      MEDICAL       5000           7.90            0                 0.14   \n",
       "23643   EDUCATION       9000          12.84            0                 0.20   \n",
       "23445   EDUCATION      25000          14.84            0                 0.40   \n",
       "\n",
       "      cb_person_default_on_file  cb_person_cred_hist_length  \n",
       "15093                         N                           2  \n",
       "1507                          N                           4  \n",
       "2879                          N                           3  \n",
       "23643                         N                           5  \n",
       "23445                         N                           5  "
      ]
     },
     "execution_count": 21,
     "metadata": {},
     "output_type": "execute_result"
    }
   ],
   "source": [
    "df_new = df.query('loan_intent in [\"EDUCATION\", \"MEDICAL\"]')\n",
    "df_new.sample(5)"
   ]
  },
  {
   "cell_type": "markdown",
   "metadata": {},
   "source": [
    "__Q8__ Create a frequency table with the __loan_intent__ (EDUCATION, MEDICAL) in the rows and __loan_stats__ in the columns. Use the __df_new__ dataframe.\n",
    "\n",
    "<span style=\"color:crimson\">Hint:</span> You can use the `pd.crosstab()` function for this."
   ]
  },
  {
   "cell_type": "code",
   "execution_count": 109,
   "metadata": {},
   "outputs": [
    {
     "data": {
      "text/html": [
       "<div>\n",
       "<style scoped>\n",
       "    .dataframe tbody tr th:only-of-type {\n",
       "        vertical-align: middle;\n",
       "    }\n",
       "\n",
       "    .dataframe tbody tr th {\n",
       "        vertical-align: top;\n",
       "    }\n",
       "\n",
       "    .dataframe thead th {\n",
       "        text-align: right;\n",
       "    }\n",
       "</style>\n",
       "<table border=\"1\" class=\"dataframe\">\n",
       "  <thead>\n",
       "    <tr style=\"text-align: right;\">\n",
       "      <th>loan_status</th>\n",
       "      <th>0</th>\n",
       "      <th>1</th>\n",
       "    </tr>\n",
       "    <tr>\n",
       "      <th>loan_intent</th>\n",
       "      <th></th>\n",
       "      <th></th>\n",
       "    </tr>\n",
       "  </thead>\n",
       "  <tbody>\n",
       "    <tr>\n",
       "      <th>EDUCATION</th>\n",
       "      <td>4733</td>\n",
       "      <td>971</td>\n",
       "    </tr>\n",
       "    <tr>\n",
       "      <th>MEDICAL</th>\n",
       "      <td>3872</td>\n",
       "      <td>1421</td>\n",
       "    </tr>\n",
       "  </tbody>\n",
       "</table>\n",
       "</div>"
      ],
      "text/plain": [
       "loan_status     0     1\n",
       "loan_intent            \n",
       "EDUCATION    4733   971\n",
       "MEDICAL      3872  1421"
      ]
     },
     "execution_count": 109,
     "metadata": {},
     "output_type": "execute_result"
    }
   ],
   "source": [
    "pd.crosstab(df_new['loan_intent'],df_new['loan_status'])"
   ]
  },
  {
   "cell_type": "markdown",
   "metadata": {},
   "source": [
    "__Q9__ What are the loan default percentages for the two __loan_intent__ categories in __df_new__?"
   ]
  },
  {
   "cell_type": "code",
   "execution_count": 39,
   "metadata": {},
   "outputs": [
    {
     "data": {
      "text/plain": [
       "loan_intent\n",
       "EDUCATION    0.518687\n",
       "MEDICAL      0.481313\n",
       "Name: proportion, dtype: float64"
      ]
     },
     "execution_count": 39,
     "metadata": {},
     "output_type": "execute_result"
    }
   ],
   "source": [
    "df_new['loan_intent'].value_counts(normalize = True)"
   ]
  },
  {
   "cell_type": "markdown",
   "metadata": {},
   "source": [
    "__Q10__  Keep the following columns: 'person_age', 'person_income', 'person_home_ownership', 'person_emp_length', 'loan_intent', 'loan_amnt', 'loan_status' and drop the rest from the __df__."
   ]
  },
  {
   "cell_type": "code",
   "execution_count": 110,
   "metadata": {},
   "outputs": [
    {
     "data": {
      "text/html": [
       "<div>\n",
       "<style scoped>\n",
       "    .dataframe tbody tr th:only-of-type {\n",
       "        vertical-align: middle;\n",
       "    }\n",
       "\n",
       "    .dataframe tbody tr th {\n",
       "        vertical-align: top;\n",
       "    }\n",
       "\n",
       "    .dataframe thead th {\n",
       "        text-align: right;\n",
       "    }\n",
       "</style>\n",
       "<table border=\"1\" class=\"dataframe\">\n",
       "  <thead>\n",
       "    <tr style=\"text-align: right;\">\n",
       "      <th></th>\n",
       "      <th>person_age</th>\n",
       "      <th>person_income</th>\n",
       "      <th>person_home_ownership</th>\n",
       "      <th>person_emp_length</th>\n",
       "      <th>loan_intent</th>\n",
       "      <th>loan_amnt</th>\n",
       "      <th>loan_status</th>\n",
       "    </tr>\n",
       "  </thead>\n",
       "  <tbody>\n",
       "    <tr>\n",
       "      <th>3666</th>\n",
       "      <td>22</td>\n",
       "      <td>38000</td>\n",
       "      <td>MORTGAGE</td>\n",
       "      <td>5.0</td>\n",
       "      <td>EDUCATION</td>\n",
       "      <td>4200</td>\n",
       "      <td>0</td>\n",
       "    </tr>\n",
       "    <tr>\n",
       "      <th>12612</th>\n",
       "      <td>24</td>\n",
       "      <td>25000</td>\n",
       "      <td>RENT</td>\n",
       "      <td>3.0</td>\n",
       "      <td>EDUCATION</td>\n",
       "      <td>3000</td>\n",
       "      <td>0</td>\n",
       "    </tr>\n",
       "    <tr>\n",
       "      <th>1966</th>\n",
       "      <td>22</td>\n",
       "      <td>14400</td>\n",
       "      <td>RENT</td>\n",
       "      <td>0.0</td>\n",
       "      <td>HOMEIMPROVEMENT</td>\n",
       "      <td>2100</td>\n",
       "      <td>1</td>\n",
       "    </tr>\n",
       "    <tr>\n",
       "      <th>14092</th>\n",
       "      <td>23</td>\n",
       "      <td>100000</td>\n",
       "      <td>MORTGAGE</td>\n",
       "      <td>2.0</td>\n",
       "      <td>VENTURE</td>\n",
       "      <td>14000</td>\n",
       "      <td>0</td>\n",
       "    </tr>\n",
       "    <tr>\n",
       "      <th>1581</th>\n",
       "      <td>25</td>\n",
       "      <td>35000</td>\n",
       "      <td>RENT</td>\n",
       "      <td>1.0</td>\n",
       "      <td>MEDICAL</td>\n",
       "      <td>1500</td>\n",
       "      <td>0</td>\n",
       "    </tr>\n",
       "    <tr>\n",
       "      <th>29759</th>\n",
       "      <td>36</td>\n",
       "      <td>37400</td>\n",
       "      <td>MORTGAGE</td>\n",
       "      <td>2.0</td>\n",
       "      <td>PERSONAL</td>\n",
       "      <td>6250</td>\n",
       "      <td>0</td>\n",
       "    </tr>\n",
       "    <tr>\n",
       "      <th>20165</th>\n",
       "      <td>34</td>\n",
       "      <td>38769</td>\n",
       "      <td>MORTGAGE</td>\n",
       "      <td>3.0</td>\n",
       "      <td>DEBTCONSOLIDATION</td>\n",
       "      <td>2400</td>\n",
       "      <td>0</td>\n",
       "    </tr>\n",
       "    <tr>\n",
       "      <th>25248</th>\n",
       "      <td>32</td>\n",
       "      <td>82000</td>\n",
       "      <td>MORTGAGE</td>\n",
       "      <td>4.0</td>\n",
       "      <td>EDUCATION</td>\n",
       "      <td>8000</td>\n",
       "      <td>0</td>\n",
       "    </tr>\n",
       "    <tr>\n",
       "      <th>4998</th>\n",
       "      <td>22</td>\n",
       "      <td>37900</td>\n",
       "      <td>RENT</td>\n",
       "      <td>2.0</td>\n",
       "      <td>MEDICAL</td>\n",
       "      <td>5000</td>\n",
       "      <td>1</td>\n",
       "    </tr>\n",
       "    <tr>\n",
       "      <th>15062</th>\n",
       "      <td>26</td>\n",
       "      <td>120000</td>\n",
       "      <td>MORTGAGE</td>\n",
       "      <td>10.0</td>\n",
       "      <td>HOMEIMPROVEMENT</td>\n",
       "      <td>20000</td>\n",
       "      <td>0</td>\n",
       "    </tr>\n",
       "  </tbody>\n",
       "</table>\n",
       "</div>"
      ],
      "text/plain": [
       "       person_age  person_income person_home_ownership  person_emp_length  \\\n",
       "3666           22          38000              MORTGAGE                5.0   \n",
       "12612          24          25000                  RENT                3.0   \n",
       "1966           22          14400                  RENT                0.0   \n",
       "14092          23         100000              MORTGAGE                2.0   \n",
       "1581           25          35000                  RENT                1.0   \n",
       "29759          36          37400              MORTGAGE                2.0   \n",
       "20165          34          38769              MORTGAGE                3.0   \n",
       "25248          32          82000              MORTGAGE                4.0   \n",
       "4998           22          37900                  RENT                2.0   \n",
       "15062          26         120000              MORTGAGE               10.0   \n",
       "\n",
       "             loan_intent  loan_amnt  loan_status  \n",
       "3666           EDUCATION       4200            0  \n",
       "12612          EDUCATION       3000            0  \n",
       "1966     HOMEIMPROVEMENT       2100            1  \n",
       "14092            VENTURE      14000            0  \n",
       "1581             MEDICAL       1500            0  \n",
       "29759           PERSONAL       6250            0  \n",
       "20165  DEBTCONSOLIDATION       2400            0  \n",
       "25248          EDUCATION       8000            0  \n",
       "4998             MEDICAL       5000            1  \n",
       "15062    HOMEIMPROVEMENT      20000            0  "
      ]
     },
     "execution_count": 110,
     "metadata": {},
     "output_type": "execute_result"
    }
   ],
   "source": [
    "df = df[['person_age', 'person_income', 'person_home_ownership', 'person_emp_length', 'loan_intent', 'loan_amnt', 'loan_status']]\n",
    "df.sample(10)"
   ]
  },
  {
   "cell_type": "markdown",
   "metadata": {},
   "source": [
    "__Q11__ What is the average __age__ of the people in the dataset?"
   ]
  },
  {
   "cell_type": "code",
   "execution_count": 53,
   "metadata": {},
   "outputs": [
    {
     "data": {
      "text/plain": [
       "27.7"
      ]
     },
     "execution_count": 53,
     "metadata": {},
     "output_type": "execute_result"
    }
   ],
   "source": [
    "df['person_age'].mean().round(1)"
   ]
  },
  {
   "cell_type": "markdown",
   "metadata": {},
   "source": [
    "__Q12__ What are the average incomes for each home ownership category? "
   ]
  },
  {
   "cell_type": "code",
   "execution_count": 54,
   "metadata": {},
   "outputs": [
    {
     "data": {
      "text/plain": [
       "person_home_ownership\n",
       "MORTGAGE    81602.94\n",
       "OTHER       79079.86\n",
       "OWN         59549.62\n",
       "RENT        55511.11\n",
       "Name: person_income, dtype: float64"
      ]
     },
     "execution_count": 54,
     "metadata": {},
     "output_type": "execute_result"
    }
   ],
   "source": [
    "df.groupby('person_home_ownership')['person_income'].mean().round(2)"
   ]
  },
  {
   "cell_type": "markdown",
   "metadata": {},
   "source": [
    "__Q13__ What is the number of loan defaults for each homeownership category and for each loan intent type? \n",
    "\n"
   ]
  },
  {
   "cell_type": "code",
   "execution_count": 56,
   "metadata": {},
   "outputs": [
    {
     "data": {
      "text/html": [
       "<div>\n",
       "<style scoped>\n",
       "    .dataframe tbody tr th:only-of-type {\n",
       "        vertical-align: middle;\n",
       "    }\n",
       "\n",
       "    .dataframe tbody tr th {\n",
       "        vertical-align: top;\n",
       "    }\n",
       "\n",
       "    .dataframe thead th {\n",
       "        text-align: right;\n",
       "    }\n",
       "</style>\n",
       "<table border=\"1\" class=\"dataframe\">\n",
       "  <thead>\n",
       "    <tr style=\"text-align: right;\">\n",
       "      <th>loan_intent</th>\n",
       "      <th>DEBTCONSOLIDATION</th>\n",
       "      <th>EDUCATION</th>\n",
       "      <th>HOMEIMPROVEMENT</th>\n",
       "      <th>MEDICAL</th>\n",
       "      <th>PERSONAL</th>\n",
       "      <th>VENTURE</th>\n",
       "    </tr>\n",
       "    <tr>\n",
       "      <th>person_home_ownership</th>\n",
       "      <th></th>\n",
       "      <th></th>\n",
       "      <th></th>\n",
       "      <th></th>\n",
       "      <th></th>\n",
       "      <th></th>\n",
       "    </tr>\n",
       "  </thead>\n",
       "  <tbody>\n",
       "    <tr>\n",
       "      <th>MORTGAGE</th>\n",
       "      <td>392</td>\n",
       "      <td>193</td>\n",
       "      <td>211</td>\n",
       "      <td>413</td>\n",
       "      <td>185</td>\n",
       "      <td>91</td>\n",
       "    </tr>\n",
       "    <tr>\n",
       "      <th>OTHER</th>\n",
       "      <td>5</td>\n",
       "      <td>5</td>\n",
       "      <td>2</td>\n",
       "      <td>6</td>\n",
       "      <td>8</td>\n",
       "      <td>1</td>\n",
       "    </tr>\n",
       "    <tr>\n",
       "      <th>OWN</th>\n",
       "      <td>23</td>\n",
       "      <td>20</td>\n",
       "      <td>28</td>\n",
       "      <td>30</td>\n",
       "      <td>20</td>\n",
       "      <td>25</td>\n",
       "    </tr>\n",
       "    <tr>\n",
       "      <th>RENT</th>\n",
       "      <td>876</td>\n",
       "      <td>753</td>\n",
       "      <td>580</td>\n",
       "      <td>972</td>\n",
       "      <td>750</td>\n",
       "      <td>614</td>\n",
       "    </tr>\n",
       "  </tbody>\n",
       "</table>\n",
       "</div>"
      ],
      "text/plain": [
       "loan_intent            DEBTCONSOLIDATION  EDUCATION  HOMEIMPROVEMENT  MEDICAL  \\\n",
       "person_home_ownership                                                           \n",
       "MORTGAGE                             392        193              211      413   \n",
       "OTHER                                  5          5                2        6   \n",
       "OWN                                   23         20               28       30   \n",
       "RENT                                 876        753              580      972   \n",
       "\n",
       "loan_intent            PERSONAL  VENTURE  \n",
       "person_home_ownership                     \n",
       "MORTGAGE                    185       91  \n",
       "OTHER                         8        1  \n",
       "OWN                          20       25  \n",
       "RENT                        750      614  "
      ]
     },
     "execution_count": 56,
     "metadata": {},
     "output_type": "execute_result"
    }
   ],
   "source": [
    "pd.pivot_table(df, index = 'person_home_ownership', columns = 'loan_intent',values = 'loan_status', aggfunc = 'sum')"
   ]
  },
  {
   "cell_type": "markdown",
   "metadata": {},
   "source": [
    "__Analyzing the output__ Is there a pattern between homeownership status, intent to borrow, and loan defaults?"
   ]
  },
  {
   "cell_type": "code",
   "execution_count": 102,
   "metadata": {},
   "outputs": [],
   "source": [
    "# Explain in words\n",
    "\n",
    "# yes thre is a patten, rent and mortgage tend to loan more than people who own a house. \n",
    "# And their first intention is the same, it's for medical reason, then for education reason. "
   ]
  },
  {
   "cell_type": "markdown",
   "metadata": {},
   "source": [
    "__Q14__ Display the distribution of __ages__ using a box plot."
   ]
  },
  {
   "cell_type": "code",
   "execution_count": 60,
   "metadata": {
    "scrolled": false
   },
   "outputs": [
    {
     "data": {
      "text/plain": [
       "<Axes: >"
      ]
     },
     "execution_count": 60,
     "metadata": {},
     "output_type": "execute_result"
    },
    {
     "data": {
      "image/png": "[encoded data removed]",
      "text/plain": [
       "<Figure size 640x480 with 1 Axes>"
      ]
     },
     "metadata": {},
     "output_type": "display_data"
    }
   ],
   "source": [
    "df['person_age'].plot(kind = 'box')"
   ]
  },
  {
   "cell_type": "markdown",
   "metadata": {},
   "source": [
    "__Q15__ Compare the box plots of __age__ distributions across __person_home_ownership__ status.\n",
    "\n"
   ]
  },
  {
   "cell_type": "code",
   "execution_count": 107,
   "metadata": {},
   "outputs": [
    {
     "data": {
      "image/png": "[encoded data removed]",
      "text/plain": [
       "<Figure size 640x480 with 1 Axes>"
      ]
     },
     "metadata": {},
     "output_type": "display_data"
    }
   ],
   "source": [
    "sns.boxplot(df, x='person_home_ownership', y= 'person_age');"
   ]
  },
  {
   "cell_type": "markdown",
   "metadata": {},
   "source": [
    "---"
   ]
  },
  {
   "cell_type": "markdown",
   "metadata": {},
   "source": [
    "<div style=\"color:gray; background-color:#eeeeee\">\n",
    "PART TWO\n",
    "</div>"
   ]
  },
  {
   "cell_type": "markdown",
   "metadata": {},
   "source": [
    "__Q16__ Get all the values of the __person_income__ column into a Python list. Name this list as __incomes__."
   ]
  },
  {
   "cell_type": "code",
   "execution_count": 62,
   "metadata": {},
   "outputs": [],
   "source": [
    "incomes = df['person_income'].to_list()"
   ]
  },
  {
   "cell_type": "markdown",
   "metadata": {},
   "source": [
    "__Q17__ Scale all of the values in this list so that they are between 0 and 1."
   ]
  },
  {
   "cell_type": "code",
   "execution_count": 69,
   "metadata": {},
   "outputs": [],
   "source": [
    "normalized = [(x-min(incomes))/(max(incomes)-min(incomes)) for x in incomes]"
   ]
  },
  {
   "cell_type": "markdown",
   "metadata": {},
   "source": [
    "__Q18__ Get all the values of the __person_emp_length__ column into a Python list. Name this list as __emps__."
   ]
  },
  {
   "cell_type": "code",
   "execution_count": 90,
   "metadata": {},
   "outputs": [],
   "source": [
    "emps = df['person_emp_length'].to_list()"
   ]
  },
  {
   "cell_type": "markdown",
   "metadata": {},
   "source": [
    "__Q19__ Create a scatter plot of the values in the __emps__ list against the values in the __incomes__ list."
   ]
  },
  {
   "cell_type": "code",
   "execution_count": 118,
   "metadata": {},
   "outputs": [
    {
     "data": {
      "image/png": "[encoded data removed]",
      "text/plain": [
       "<Figure size 640x480 with 1 Axes>"
      ]
     },
     "metadata": {},
     "output_type": "display_data"
    }
   ],
   "source": [
    "plt.scatter(x = incomes, y =emps)\n",
    "plt.xlabel('incomes')\n",
    "plt.ylabel('emps')\n",
    "plt.show()"
   ]
  },
  {
   "cell_type": "markdown",
   "metadata": {},
   "source": [
    "__Analyzing the output__ Is there a relationship between how many years people work and how much they earn?"
   ]
  },
  {
   "cell_type": "code",
   "execution_count": 77,
   "metadata": {},
   "outputs": [],
   "source": [
    "# Explain in words\n",
    "\n",
    "# According to the output, there is no strong relationship between working years and incomes."
   ]
  },
  {
   "cell_type": "markdown",
   "metadata": {},
   "source": [
    "__Q20__ There are three outliers in the figure above. One individual with a very high income and two individuals with years of experience (around 120 years!).\n",
    "\n",
    "Remove these three individuals from both lists and redo the previous plot."
   ]
  },
  {
   "cell_type": "code",
   "execution_count": 116,
   "metadata": {},
   "outputs": [
    {
     "data": {
      "image/png": "[encoded data removed]",
      "text/plain": [
       "<Figure size 640x480 with 1 Axes>"
      ]
     },
     "metadata": {},
     "output_type": "display_data"
    }
   ],
   "source": [
    "max_income = df['person_income'].max() # One individual with a very high income\n",
    "max_emps = df['person_emp_length'].max() #two individuals with years of experience\n",
    "removed = df.query('person_income != @max_income & person_emp_length != @max_emps')\n",
    "removed.plot(kind = 'scatter', x = 'person_income', y ='person_emp_length');"
   ]
  },
  {
   "cell_type": "markdown",
   "metadata": {},
   "source": [
    "---"
   ]
  }
 ],
 "metadata": {
  "kernelspec": {
   "display_name": "Python 3 (ipykernel)",
   "language": "python",
   "name": "python3"
  },
  "language_info": {
   "codemirror_mode": {
    "name": "ipython",
    "version": 3
   },
   "file_extension": ".py",
   "mimetype": "text/x-python",
   "name": "python",
   "nbconvert_exporter": "python",
   "pygments_lexer": "ipython3",
   "version": "3.11.5"
  }
 },
 "nbformat": 4,
 "nbformat_minor": 2
}

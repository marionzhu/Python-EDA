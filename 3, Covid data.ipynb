{
 "cells": [
  {
   "cell_type": "markdown",
   "id": "64c52c97",
   "metadata": {},
   "source": [
    "# CSSEGISandData COVID-19"
   ]
  },
  {
   "cell_type": "markdown",
   "id": "c59bc3b1",
   "metadata": {},
   "source": [
    "### Explore Covid data\n",
    "\n",
    "* link: https://github.com/CSSEGISandData <br/>(Center for Systems Science and Engineering (CSSE) at Johns Hopkins University - github repository)\n",
    "* https://raw.githubusercontent.com/CSSEGISandData/COVID-19/master/csse_covid_19_data/csse_covid_19_daily_reports/01-30-2023.csv"
   ]
  },
  {
   "cell_type": "code",
   "execution_count": 6,
   "id": "d7b80f75",
   "metadata": {},
   "outputs": [],
   "source": [
    "import pandas as pd\n",
    "df = pd.read_csv(\"https://raw.githubusercontent.com/CSSEGISandData/COVID-19/master/csse_covid_19_data/csse_covid_19_daily_reports/01-31-2023.csv\")"
   ]
  },
  {
   "cell_type": "code",
   "execution_count": 7,
   "id": "2e7798e5",
   "metadata": {
    "scrolled": true
   },
   "outputs": [
    {
     "data": {
      "text/html": [
       "<div>\n",
       "<style scoped>\n",
       "    .dataframe tbody tr th:only-of-type {\n",
       "        vertical-align: middle;\n",
       "    }\n",
       "\n",
       "    .dataframe tbody tr th {\n",
       "        vertical-align: top;\n",
       "    }\n",
       "\n",
       "    .dataframe thead th {\n",
       "        text-align: right;\n",
       "    }\n",
       "</style>\n",
       "<table border=\"1\" class=\"dataframe\">\n",
       "  <thead>\n",
       "    <tr style=\"text-align: right;\">\n",
       "      <th></th>\n",
       "      <th>FIPS</th>\n",
       "      <th>Admin2</th>\n",
       "      <th>Province_State</th>\n",
       "      <th>Country_Region</th>\n",
       "      <th>Last_Update</th>\n",
       "      <th>Lat</th>\n",
       "      <th>Long_</th>\n",
       "      <th>Confirmed</th>\n",
       "      <th>Deaths</th>\n",
       "      <th>Recovered</th>\n",
       "      <th>Active</th>\n",
       "      <th>Combined_Key</th>\n",
       "      <th>Incident_Rate</th>\n",
       "      <th>Case_Fatality_Ratio</th>\n",
       "    </tr>\n",
       "  </thead>\n",
       "  <tbody>\n",
       "    <tr>\n",
       "      <th>0</th>\n",
       "      <td>NaN</td>\n",
       "      <td>NaN</td>\n",
       "      <td>NaN</td>\n",
       "      <td>Afghanistan</td>\n",
       "      <td>2023-02-01 04:20:54</td>\n",
       "      <td>33.93911</td>\n",
       "      <td>67.709953</td>\n",
       "      <td>208545</td>\n",
       "      <td>7882</td>\n",
       "      <td>NaN</td>\n",
       "      <td>NaN</td>\n",
       "      <td>Afghanistan</td>\n",
       "      <td>535.715098</td>\n",
       "      <td>3.779520</td>\n",
       "    </tr>\n",
       "    <tr>\n",
       "      <th>1</th>\n",
       "      <td>NaN</td>\n",
       "      <td>NaN</td>\n",
       "      <td>NaN</td>\n",
       "      <td>Albania</td>\n",
       "      <td>2023-02-01 04:20:54</td>\n",
       "      <td>41.15330</td>\n",
       "      <td>20.168300</td>\n",
       "      <td>334167</td>\n",
       "      <td>3596</td>\n",
       "      <td>NaN</td>\n",
       "      <td>NaN</td>\n",
       "      <td>Albania</td>\n",
       "      <td>11611.891028</td>\n",
       "      <td>1.076109</td>\n",
       "    </tr>\n",
       "    <tr>\n",
       "      <th>2</th>\n",
       "      <td>NaN</td>\n",
       "      <td>NaN</td>\n",
       "      <td>NaN</td>\n",
       "      <td>Algeria</td>\n",
       "      <td>2023-02-01 04:20:54</td>\n",
       "      <td>28.03390</td>\n",
       "      <td>1.659600</td>\n",
       "      <td>271378</td>\n",
       "      <td>6881</td>\n",
       "      <td>NaN</td>\n",
       "      <td>NaN</td>\n",
       "      <td>Algeria</td>\n",
       "      <td>618.863273</td>\n",
       "      <td>2.535578</td>\n",
       "    </tr>\n",
       "    <tr>\n",
       "      <th>3</th>\n",
       "      <td>NaN</td>\n",
       "      <td>NaN</td>\n",
       "      <td>NaN</td>\n",
       "      <td>Andorra</td>\n",
       "      <td>2023-02-01 04:20:54</td>\n",
       "      <td>42.50630</td>\n",
       "      <td>1.521800</td>\n",
       "      <td>47839</td>\n",
       "      <td>165</td>\n",
       "      <td>NaN</td>\n",
       "      <td>NaN</td>\n",
       "      <td>Andorra</td>\n",
       "      <td>61915.485666</td>\n",
       "      <td>0.344907</td>\n",
       "    </tr>\n",
       "    <tr>\n",
       "      <th>4</th>\n",
       "      <td>NaN</td>\n",
       "      <td>NaN</td>\n",
       "      <td>NaN</td>\n",
       "      <td>Angola</td>\n",
       "      <td>2023-02-01 04:20:54</td>\n",
       "      <td>-11.20270</td>\n",
       "      <td>17.873900</td>\n",
       "      <td>105184</td>\n",
       "      <td>1931</td>\n",
       "      <td>NaN</td>\n",
       "      <td>NaN</td>\n",
       "      <td>Angola</td>\n",
       "      <td>320.036336</td>\n",
       "      <td>1.835831</td>\n",
       "    </tr>\n",
       "  </tbody>\n",
       "</table>\n",
       "</div>"
      ],
      "text/plain": [
       "   FIPS Admin2 Province_State Country_Region          Last_Update       Lat  \\\n",
       "0   NaN    NaN            NaN    Afghanistan  2023-02-01 04:20:54  33.93911   \n",
       "1   NaN    NaN            NaN        Albania  2023-02-01 04:20:54  41.15330   \n",
       "2   NaN    NaN            NaN        Algeria  2023-02-01 04:20:54  28.03390   \n",
       "3   NaN    NaN            NaN        Andorra  2023-02-01 04:20:54  42.50630   \n",
       "4   NaN    NaN            NaN         Angola  2023-02-01 04:20:54 -11.20270   \n",
       "\n",
       "       Long_  Confirmed  Deaths  Recovered  Active Combined_Key  \\\n",
       "0  67.709953     208545    7882        NaN     NaN  Afghanistan   \n",
       "1  20.168300     334167    3596        NaN     NaN      Albania   \n",
       "2   1.659600     271378    6881        NaN     NaN      Algeria   \n",
       "3   1.521800      47839     165        NaN     NaN      Andorra   \n",
       "4  17.873900     105184    1931        NaN     NaN       Angola   \n",
       "\n",
       "   Incident_Rate  Case_Fatality_Ratio  \n",
       "0     535.715098             3.779520  \n",
       "1   11611.891028             1.076109  \n",
       "2     618.863273             2.535578  \n",
       "3   61915.485666             0.344907  \n",
       "4     320.036336             1.835831  "
      ]
     },
     "execution_count": 7,
     "metadata": {},
     "output_type": "execute_result"
    }
   ],
   "source": [
    "df.head()"
   ]
  },
  {
   "cell_type": "markdown",
   "id": "c2e79649",
   "metadata": {},
   "source": [
    "#### How many rows and columns are included in the df?"
   ]
  },
  {
   "cell_type": "code",
   "execution_count": 8,
   "id": "2ecb8e00",
   "metadata": {},
   "outputs": [
    {
     "data": {
      "text/plain": [
       "(4016, 14)"
      ]
     },
     "execution_count": 8,
     "metadata": {},
     "output_type": "execute_result"
    }
   ],
   "source": [
    "df.shape"
   ]
  },
  {
   "cell_type": "markdown",
   "id": "dc401372",
   "metadata": {},
   "source": [
    "#### How many null values are there in each column?"
   ]
  },
  {
   "cell_type": "code",
   "execution_count": 9,
   "id": "a8a23aa6",
   "metadata": {},
   "outputs": [
    {
     "data": {
      "text/plain": [
       "FIPS                    748\n",
       "Admin2                  744\n",
       "Province_State          179\n",
       "Country_Region            0\n",
       "Last_Update               0\n",
       "Lat                      91\n",
       "Long_                    91\n",
       "Confirmed                 0\n",
       "Deaths                    0\n",
       "Recovered              4016\n",
       "Active                 4016\n",
       "Combined_Key              0\n",
       "Incident_Rate            94\n",
       "Case_Fatality_Ratio      40\n",
       "dtype: int64"
      ]
     },
     "execution_count": 9,
     "metadata": {},
     "output_type": "execute_result"
    }
   ],
   "source": [
    "df.isna().sum()"
   ]
  },
  {
   "cell_type": "markdown",
   "id": "44ab3933",
   "metadata": {},
   "source": [
    "#### Find Confirmed and Deaths in France"
   ]
  },
  {
   "cell_type": "code",
   "execution_count": 10,
   "id": "66e029d6",
   "metadata": {},
   "outputs": [
    {
     "data": {
      "text/plain": [
       "Confirmed    39729161\n",
       "Deaths         165274\n",
       "dtype: int64"
      ]
     },
     "execution_count": 10,
     "metadata": {},
     "output_type": "execute_result"
    }
   ],
   "source": [
    "france_df = df.query('Country_Region == \"France\"')\n",
    "france_df[['Confirmed','Deaths']].sum()"
   ]
  },
  {
   "cell_type": "markdown",
   "id": "975af5d5",
   "metadata": {},
   "source": [
    "#### Find Confirmed and Deaths in Europe"
   ]
  },
  {
   "cell_type": "code",
   "execution_count": 11,
   "id": "c5a9ecbf",
   "metadata": {},
   "outputs": [],
   "source": [
    "countries = ['Germany','France','United Kingdom','Italy','Spain','Netherlands','Belgium']\n",
    "europe_df = df.query('Country_Region in @countries')"
   ]
  },
  {
   "cell_type": "code",
   "execution_count": 12,
   "id": "94c265bb",
   "metadata": {},
   "outputs": [],
   "source": [
    "europe_grouped = europe_df.groupby('Country_Region')[['Confirmed','Deaths']].sum()"
   ]
  },
  {
   "cell_type": "code",
   "execution_count": 13,
   "id": "f8d2fd71",
   "metadata": {},
   "outputs": [
    {
     "data": {
      "text/html": [
       "<div>\n",
       "<style scoped>\n",
       "    .dataframe tbody tr th:only-of-type {\n",
       "        vertical-align: middle;\n",
       "    }\n",
       "\n",
       "    .dataframe tbody tr th {\n",
       "        vertical-align: top;\n",
       "    }\n",
       "\n",
       "    .dataframe thead th {\n",
       "        text-align: right;\n",
       "    }\n",
       "</style>\n",
       "<table border=\"1\" class=\"dataframe\">\n",
       "  <thead>\n",
       "    <tr style=\"text-align: right;\">\n",
       "      <th></th>\n",
       "      <th>Confirmed</th>\n",
       "      <th>Deaths</th>\n",
       "    </tr>\n",
       "    <tr>\n",
       "      <th>Country_Region</th>\n",
       "      <th></th>\n",
       "      <th></th>\n",
       "    </tr>\n",
       "  </thead>\n",
       "  <tbody>\n",
       "    <tr>\n",
       "      <th>Belgium</th>\n",
       "      <td>4691499</td>\n",
       "      <td>33557</td>\n",
       "    </tr>\n",
       "    <tr>\n",
       "      <th>France</th>\n",
       "      <td>39729161</td>\n",
       "      <td>165274</td>\n",
       "    </tr>\n",
       "    <tr>\n",
       "      <th>Germany</th>\n",
       "      <td>37779833</td>\n",
       "      <td>165711</td>\n",
       "    </tr>\n",
       "    <tr>\n",
       "      <th>Italy</th>\n",
       "      <td>25453789</td>\n",
       "      <td>186833</td>\n",
       "    </tr>\n",
       "    <tr>\n",
       "      <th>Netherlands</th>\n",
       "      <td>8695133</td>\n",
       "      <td>23704</td>\n",
       "    </tr>\n",
       "    <tr>\n",
       "      <th>Spain</th>\n",
       "      <td>13731478</td>\n",
       "      <td>118434</td>\n",
       "    </tr>\n",
       "    <tr>\n",
       "      <th>United Kingdom</th>\n",
       "      <td>24507298</td>\n",
       "      <td>220064</td>\n",
       "    </tr>\n",
       "  </tbody>\n",
       "</table>\n",
       "</div>"
      ],
      "text/plain": [
       "                Confirmed  Deaths\n",
       "Country_Region                   \n",
       "Belgium           4691499   33557\n",
       "France           39729161  165274\n",
       "Germany          37779833  165711\n",
       "Italy            25453789  186833\n",
       "Netherlands       8695133   23704\n",
       "Spain            13731478  118434\n",
       "United Kingdom   24507298  220064"
      ]
     },
     "execution_count": 13,
     "metadata": {},
     "output_type": "execute_result"
    }
   ],
   "source": [
    "europe_df.pivot_table(index = 'Country_Region', values = ['Confirmed','Deaths'], aggfunc = 'sum')"
   ]
  },
  {
   "cell_type": "markdown",
   "id": "b00d24cd",
   "metadata": {},
   "source": [
    "#### Calculate the death rate for each country"
   ]
  },
  {
   "cell_type": "code",
   "execution_count": 14,
   "id": "97fb68ad",
   "metadata": {},
   "outputs": [
    {
     "data": {
      "text/html": [
       "<div>\n",
       "<style scoped>\n",
       "    .dataframe tbody tr th:only-of-type {\n",
       "        vertical-align: middle;\n",
       "    }\n",
       "\n",
       "    .dataframe tbody tr th {\n",
       "        vertical-align: top;\n",
       "    }\n",
       "\n",
       "    .dataframe thead th {\n",
       "        text-align: right;\n",
       "    }\n",
       "</style>\n",
       "<table border=\"1\" class=\"dataframe\">\n",
       "  <thead>\n",
       "    <tr style=\"text-align: right;\">\n",
       "      <th></th>\n",
       "      <th>Confirmed</th>\n",
       "      <th>Deaths</th>\n",
       "      <th>Death_rate</th>\n",
       "    </tr>\n",
       "    <tr>\n",
       "      <th>Country_Region</th>\n",
       "      <th></th>\n",
       "      <th></th>\n",
       "      <th></th>\n",
       "    </tr>\n",
       "  </thead>\n",
       "  <tbody>\n",
       "    <tr>\n",
       "      <th>Belgium</th>\n",
       "      <td>4691499</td>\n",
       "      <td>33557</td>\n",
       "      <td>0.715272</td>\n",
       "    </tr>\n",
       "    <tr>\n",
       "      <th>France</th>\n",
       "      <td>39729161</td>\n",
       "      <td>165274</td>\n",
       "      <td>0.416002</td>\n",
       "    </tr>\n",
       "    <tr>\n",
       "      <th>Germany</th>\n",
       "      <td>37779833</td>\n",
       "      <td>165711</td>\n",
       "      <td>0.438623</td>\n",
       "    </tr>\n",
       "    <tr>\n",
       "      <th>Italy</th>\n",
       "      <td>25453789</td>\n",
       "      <td>186833</td>\n",
       "      <td>0.734009</td>\n",
       "    </tr>\n",
       "    <tr>\n",
       "      <th>Netherlands</th>\n",
       "      <td>8695133</td>\n",
       "      <td>23704</td>\n",
       "      <td>0.272612</td>\n",
       "    </tr>\n",
       "    <tr>\n",
       "      <th>Spain</th>\n",
       "      <td>13731478</td>\n",
       "      <td>118434</td>\n",
       "      <td>0.862500</td>\n",
       "    </tr>\n",
       "    <tr>\n",
       "      <th>United Kingdom</th>\n",
       "      <td>24507298</td>\n",
       "      <td>220064</td>\n",
       "      <td>0.897953</td>\n",
       "    </tr>\n",
       "  </tbody>\n",
       "</table>\n",
       "</div>"
      ],
      "text/plain": [
       "                Confirmed  Deaths  Death_rate\n",
       "Country_Region                               \n",
       "Belgium           4691499   33557    0.715272\n",
       "France           39729161  165274    0.416002\n",
       "Germany          37779833  165711    0.438623\n",
       "Italy            25453789  186833    0.734009\n",
       "Netherlands       8695133   23704    0.272612\n",
       "Spain            13731478  118434    0.862500\n",
       "United Kingdom   24507298  220064    0.897953"
      ]
     },
     "execution_count": 14,
     "metadata": {},
     "output_type": "execute_result"
    }
   ],
   "source": [
    "europe_grouped['Death_rate'] = europe_grouped['Deaths']/europe_grouped['Confirmed']*100\n",
    "europe_grouped"
   ]
  },
  {
   "cell_type": "markdown",
   "id": "5b4882fa",
   "metadata": {},
   "source": [
    "#### Sort countries by Deaths in descending order"
   ]
  },
  {
   "cell_type": "code",
   "execution_count": 15,
   "id": "5d6c0a63",
   "metadata": {},
   "outputs": [
    {
     "data": {
      "text/html": [
       "<div>\n",
       "<style scoped>\n",
       "    .dataframe tbody tr th:only-of-type {\n",
       "        vertical-align: middle;\n",
       "    }\n",
       "\n",
       "    .dataframe tbody tr th {\n",
       "        vertical-align: top;\n",
       "    }\n",
       "\n",
       "    .dataframe thead th {\n",
       "        text-align: right;\n",
       "    }\n",
       "</style>\n",
       "<table border=\"1\" class=\"dataframe\">\n",
       "  <thead>\n",
       "    <tr style=\"text-align: right;\">\n",
       "      <th></th>\n",
       "      <th>Confirmed</th>\n",
       "      <th>Deaths</th>\n",
       "      <th>Death_rate</th>\n",
       "    </tr>\n",
       "    <tr>\n",
       "      <th>Country_Region</th>\n",
       "      <th></th>\n",
       "      <th></th>\n",
       "      <th></th>\n",
       "    </tr>\n",
       "  </thead>\n",
       "  <tbody>\n",
       "    <tr>\n",
       "      <th>United Kingdom</th>\n",
       "      <td>24507298</td>\n",
       "      <td>220064</td>\n",
       "      <td>0.897953</td>\n",
       "    </tr>\n",
       "    <tr>\n",
       "      <th>Italy</th>\n",
       "      <td>25453789</td>\n",
       "      <td>186833</td>\n",
       "      <td>0.734009</td>\n",
       "    </tr>\n",
       "    <tr>\n",
       "      <th>Germany</th>\n",
       "      <td>37779833</td>\n",
       "      <td>165711</td>\n",
       "      <td>0.438623</td>\n",
       "    </tr>\n",
       "    <tr>\n",
       "      <th>France</th>\n",
       "      <td>39729161</td>\n",
       "      <td>165274</td>\n",
       "      <td>0.416002</td>\n",
       "    </tr>\n",
       "    <tr>\n",
       "      <th>Spain</th>\n",
       "      <td>13731478</td>\n",
       "      <td>118434</td>\n",
       "      <td>0.862500</td>\n",
       "    </tr>\n",
       "    <tr>\n",
       "      <th>Belgium</th>\n",
       "      <td>4691499</td>\n",
       "      <td>33557</td>\n",
       "      <td>0.715272</td>\n",
       "    </tr>\n",
       "    <tr>\n",
       "      <th>Netherlands</th>\n",
       "      <td>8695133</td>\n",
       "      <td>23704</td>\n",
       "      <td>0.272612</td>\n",
       "    </tr>\n",
       "  </tbody>\n",
       "</table>\n",
       "</div>"
      ],
      "text/plain": [
       "                Confirmed  Deaths  Death_rate\n",
       "Country_Region                               \n",
       "United Kingdom   24507298  220064    0.897953\n",
       "Italy            25453789  186833    0.734009\n",
       "Germany          37779833  165711    0.438623\n",
       "France           39729161  165274    0.416002\n",
       "Spain            13731478  118434    0.862500\n",
       "Belgium           4691499   33557    0.715272\n",
       "Netherlands       8695133   23704    0.272612"
      ]
     },
     "execution_count": 15,
     "metadata": {},
     "output_type": "execute_result"
    }
   ],
   "source": [
    "europe_grouped.sort_values('Deaths', ascending = False)"
   ]
  },
  {
   "cell_type": "markdown",
   "id": "e7b8e010",
   "metadata": {},
   "source": [
    "#### Sort countries by Death Rate in descending order"
   ]
  },
  {
   "cell_type": "code",
   "execution_count": 16,
   "id": "25bdbf5e",
   "metadata": {},
   "outputs": [
    {
     "data": {
      "text/html": [
       "<div>\n",
       "<style scoped>\n",
       "    .dataframe tbody tr th:only-of-type {\n",
       "        vertical-align: middle;\n",
       "    }\n",
       "\n",
       "    .dataframe tbody tr th {\n",
       "        vertical-align: top;\n",
       "    }\n",
       "\n",
       "    .dataframe thead th {\n",
       "        text-align: right;\n",
       "    }\n",
       "</style>\n",
       "<table border=\"1\" class=\"dataframe\">\n",
       "  <thead>\n",
       "    <tr style=\"text-align: right;\">\n",
       "      <th></th>\n",
       "      <th>Confirmed</th>\n",
       "      <th>Deaths</th>\n",
       "      <th>Death_rate</th>\n",
       "    </tr>\n",
       "    <tr>\n",
       "      <th>Country_Region</th>\n",
       "      <th></th>\n",
       "      <th></th>\n",
       "      <th></th>\n",
       "    </tr>\n",
       "  </thead>\n",
       "  <tbody>\n",
       "    <tr>\n",
       "      <th>United Kingdom</th>\n",
       "      <td>24507298</td>\n",
       "      <td>220064</td>\n",
       "      <td>0.897953</td>\n",
       "    </tr>\n",
       "    <tr>\n",
       "      <th>Spain</th>\n",
       "      <td>13731478</td>\n",
       "      <td>118434</td>\n",
       "      <td>0.862500</td>\n",
       "    </tr>\n",
       "    <tr>\n",
       "      <th>Italy</th>\n",
       "      <td>25453789</td>\n",
       "      <td>186833</td>\n",
       "      <td>0.734009</td>\n",
       "    </tr>\n",
       "    <tr>\n",
       "      <th>Belgium</th>\n",
       "      <td>4691499</td>\n",
       "      <td>33557</td>\n",
       "      <td>0.715272</td>\n",
       "    </tr>\n",
       "    <tr>\n",
       "      <th>Germany</th>\n",
       "      <td>37779833</td>\n",
       "      <td>165711</td>\n",
       "      <td>0.438623</td>\n",
       "    </tr>\n",
       "    <tr>\n",
       "      <th>France</th>\n",
       "      <td>39729161</td>\n",
       "      <td>165274</td>\n",
       "      <td>0.416002</td>\n",
       "    </tr>\n",
       "    <tr>\n",
       "      <th>Netherlands</th>\n",
       "      <td>8695133</td>\n",
       "      <td>23704</td>\n",
       "      <td>0.272612</td>\n",
       "    </tr>\n",
       "  </tbody>\n",
       "</table>\n",
       "</div>"
      ],
      "text/plain": [
       "                Confirmed  Deaths  Death_rate\n",
       "Country_Region                               \n",
       "United Kingdom   24507298  220064    0.897953\n",
       "Spain            13731478  118434    0.862500\n",
       "Italy            25453789  186833    0.734009\n",
       "Belgium           4691499   33557    0.715272\n",
       "Germany          37779833  165711    0.438623\n",
       "France           39729161  165274    0.416002\n",
       "Netherlands       8695133   23704    0.272612"
      ]
     },
     "execution_count": 16,
     "metadata": {},
     "output_type": "execute_result"
    }
   ],
   "source": [
    "europe_grouped.sort_values('Death_rate', ascending = False)"
   ]
  },
  {
   "cell_type": "markdown",
   "id": "3ee45409",
   "metadata": {},
   "source": [
    "#### Create a new column above mean death rate"
   ]
  },
  {
   "cell_type": "code",
   "execution_count": 17,
   "id": "84359d6d",
   "metadata": {},
   "outputs": [
    {
     "data": {
      "text/plain": [
       "0.6195672732639288"
      ]
     },
     "execution_count": 17,
     "metadata": {},
     "output_type": "execute_result"
    }
   ],
   "source": [
    "average_death_rate = europe_grouped['Death_rate'].mean()\n",
    "average_death_rate"
   ]
  },
  {
   "cell_type": "code",
   "execution_count": 18,
   "id": "508b846c",
   "metadata": {},
   "outputs": [
    {
     "data": {
      "text/html": [
       "<div>\n",
       "<style scoped>\n",
       "    .dataframe tbody tr th:only-of-type {\n",
       "        vertical-align: middle;\n",
       "    }\n",
       "\n",
       "    .dataframe tbody tr th {\n",
       "        vertical-align: top;\n",
       "    }\n",
       "\n",
       "    .dataframe thead th {\n",
       "        text-align: right;\n",
       "    }\n",
       "</style>\n",
       "<table border=\"1\" class=\"dataframe\">\n",
       "  <thead>\n",
       "    <tr style=\"text-align: right;\">\n",
       "      <th></th>\n",
       "      <th>Confirmed</th>\n",
       "      <th>Deaths</th>\n",
       "      <th>Death_rate</th>\n",
       "      <th>above_mean_death_rate</th>\n",
       "    </tr>\n",
       "    <tr>\n",
       "      <th>Country_Region</th>\n",
       "      <th></th>\n",
       "      <th></th>\n",
       "      <th></th>\n",
       "      <th></th>\n",
       "    </tr>\n",
       "  </thead>\n",
       "  <tbody>\n",
       "    <tr>\n",
       "      <th>Belgium</th>\n",
       "      <td>4691499</td>\n",
       "      <td>33557</td>\n",
       "      <td>0.715272</td>\n",
       "      <td>True</td>\n",
       "    </tr>\n",
       "    <tr>\n",
       "      <th>Italy</th>\n",
       "      <td>25453789</td>\n",
       "      <td>186833</td>\n",
       "      <td>0.734009</td>\n",
       "      <td>True</td>\n",
       "    </tr>\n",
       "    <tr>\n",
       "      <th>Spain</th>\n",
       "      <td>13731478</td>\n",
       "      <td>118434</td>\n",
       "      <td>0.862500</td>\n",
       "      <td>True</td>\n",
       "    </tr>\n",
       "    <tr>\n",
       "      <th>United Kingdom</th>\n",
       "      <td>24507298</td>\n",
       "      <td>220064</td>\n",
       "      <td>0.897953</td>\n",
       "      <td>True</td>\n",
       "    </tr>\n",
       "    <tr>\n",
       "      <th>France</th>\n",
       "      <td>39729161</td>\n",
       "      <td>165274</td>\n",
       "      <td>0.416002</td>\n",
       "      <td>False</td>\n",
       "    </tr>\n",
       "    <tr>\n",
       "      <th>Germany</th>\n",
       "      <td>37779833</td>\n",
       "      <td>165711</td>\n",
       "      <td>0.438623</td>\n",
       "      <td>False</td>\n",
       "    </tr>\n",
       "    <tr>\n",
       "      <th>Netherlands</th>\n",
       "      <td>8695133</td>\n",
       "      <td>23704</td>\n",
       "      <td>0.272612</td>\n",
       "      <td>False</td>\n",
       "    </tr>\n",
       "  </tbody>\n",
       "</table>\n",
       "</div>"
      ],
      "text/plain": [
       "                Confirmed  Deaths  Death_rate  above_mean_death_rate\n",
       "Country_Region                                                      \n",
       "Belgium           4691499   33557    0.715272                   True\n",
       "Italy            25453789  186833    0.734009                   True\n",
       "Spain            13731478  118434    0.862500                   True\n",
       "United Kingdom   24507298  220064    0.897953                   True\n",
       "France           39729161  165274    0.416002                  False\n",
       "Germany          37779833  165711    0.438623                  False\n",
       "Netherlands       8695133   23704    0.272612                  False"
      ]
     },
     "execution_count": 18,
     "metadata": {},
     "output_type": "execute_result"
    }
   ],
   "source": [
    "europe_grouped['above_mean_death_rate'] = europe_grouped['Death_rate'].apply(lambda x: x > average_death_rate)\n",
    "europe_grouped.sort_values('above_mean_death_rate', ascending = False)"
   ]
  },
  {
   "cell_type": "markdown",
   "id": "a32e3293",
   "metadata": {},
   "source": [
    "#### Make a barplot using Matplotlib to show countries and death rate"
   ]
  },
  {
   "cell_type": "code",
   "execution_count": 19,
   "id": "0837a20c",
   "metadata": {},
   "outputs": [],
   "source": [
    "import matplotlib.pyplot as plt"
   ]
  },
  {
   "cell_type": "code",
   "execution_count": 20,
   "id": "85ab3a0f",
   "metadata": {},
   "outputs": [
    {
     "data": {
      "text/html": [
       "<div>\n",
       "<style scoped>\n",
       "    .dataframe tbody tr th:only-of-type {\n",
       "        vertical-align: middle;\n",
       "    }\n",
       "\n",
       "    .dataframe tbody tr th {\n",
       "        vertical-align: top;\n",
       "    }\n",
       "\n",
       "    .dataframe thead th {\n",
       "        text-align: right;\n",
       "    }\n",
       "</style>\n",
       "<table border=\"1\" class=\"dataframe\">\n",
       "  <thead>\n",
       "    <tr style=\"text-align: right;\">\n",
       "      <th></th>\n",
       "      <th>Country_Region</th>\n",
       "      <th>Confirmed</th>\n",
       "      <th>Deaths</th>\n",
       "      <th>Death_rate</th>\n",
       "      <th>above_mean_death_rate</th>\n",
       "    </tr>\n",
       "  </thead>\n",
       "  <tbody>\n",
       "    <tr>\n",
       "      <th>0</th>\n",
       "      <td>Belgium</td>\n",
       "      <td>4691499</td>\n",
       "      <td>33557</td>\n",
       "      <td>0.715272</td>\n",
       "      <td>True</td>\n",
       "    </tr>\n",
       "    <tr>\n",
       "      <th>1</th>\n",
       "      <td>France</td>\n",
       "      <td>39729161</td>\n",
       "      <td>165274</td>\n",
       "      <td>0.416002</td>\n",
       "      <td>False</td>\n",
       "    </tr>\n",
       "    <tr>\n",
       "      <th>2</th>\n",
       "      <td>Germany</td>\n",
       "      <td>37779833</td>\n",
       "      <td>165711</td>\n",
       "      <td>0.438623</td>\n",
       "      <td>False</td>\n",
       "    </tr>\n",
       "    <tr>\n",
       "      <th>3</th>\n",
       "      <td>Italy</td>\n",
       "      <td>25453789</td>\n",
       "      <td>186833</td>\n",
       "      <td>0.734009</td>\n",
       "      <td>True</td>\n",
       "    </tr>\n",
       "    <tr>\n",
       "      <th>4</th>\n",
       "      <td>Netherlands</td>\n",
       "      <td>8695133</td>\n",
       "      <td>23704</td>\n",
       "      <td>0.272612</td>\n",
       "      <td>False</td>\n",
       "    </tr>\n",
       "    <tr>\n",
       "      <th>5</th>\n",
       "      <td>Spain</td>\n",
       "      <td>13731478</td>\n",
       "      <td>118434</td>\n",
       "      <td>0.862500</td>\n",
       "      <td>True</td>\n",
       "    </tr>\n",
       "    <tr>\n",
       "      <th>6</th>\n",
       "      <td>United Kingdom</td>\n",
       "      <td>24507298</td>\n",
       "      <td>220064</td>\n",
       "      <td>0.897953</td>\n",
       "      <td>True</td>\n",
       "    </tr>\n",
       "  </tbody>\n",
       "</table>\n",
       "</div>"
      ],
      "text/plain": [
       "   Country_Region  Confirmed  Deaths  Death_rate  above_mean_death_rate\n",
       "0         Belgium    4691499   33557    0.715272                   True\n",
       "1          France   39729161  165274    0.416002                  False\n",
       "2         Germany   37779833  165711    0.438623                  False\n",
       "3           Italy   25453789  186833    0.734009                   True\n",
       "4     Netherlands    8695133   23704    0.272612                  False\n",
       "5           Spain   13731478  118434    0.862500                   True\n",
       "6  United Kingdom   24507298  220064    0.897953                   True"
      ]
     },
     "execution_count": 20,
     "metadata": {},
     "output_type": "execute_result"
    }
   ],
   "source": [
    "europe_grouped.reset_index(inplace = True)\n",
    "europe_grouped"
   ]
  },
  {
   "cell_type": "code",
   "execution_count": 23,
   "id": "8498f2aa",
   "metadata": {},
   "outputs": [
    {
     "data": {
      "text/plain": [
       "<Axes: xlabel='Country_Region'>"
      ]
     },
     "execution_count": 23,
     "metadata": {},
     "output_type": "execute_result"
    },
    {
     "data": {
      "image/png": "[encoded data removed]",
      "text/plain": [
       "<Figure size 640x480 with 1 Axes>"
      ]
     },
     "metadata": {},
     "output_type": "display_data"
    }
   ],
   "source": [
    "europe_grouped.plot(x='Country_Region', y='Death_rate', kind = 'bar', rot = 45)"
   ]
  },
  {
   "cell_type": "markdown",
   "id": "f60fa592",
   "metadata": {},
   "source": [
    "#### Make the bar red if it is below average"
   ]
  },
  {
   "cell_type": "code",
   "execution_count": 14,
   "id": "83683c3a",
   "metadata": {},
   "outputs": [
    {
     "data": {
      "image/png": "[encoded data removed]",
      "text/plain": [
       "<Figure size 1000x600 with 1 Axes>"
      ]
     },
     "metadata": {},
     "output_type": "display_data"
    }
   ],
   "source": [
    "plt.figure(figsize=(10, 6))\n",
    "\n",
    "colors = ['red' if rate > average_death_rate else 'skyblue' for rate in europe_grouped['Death_rate']]\n",
    "plt.bar(europe_grouped['Country_Region'], europe_grouped['Death_rate'], width= 0.6, color=colors, edgecolor='black')\n",
    "\n",
    "plt.xlabel('Country_Region')\n",
    "plt.ylabel('Death_rate')\n",
    "plt.title('Europe Death Rate')\n",
    "plt.xticks(europe_grouped['Country_Region'], rotation=45)\n",
    "plt.show()"
   ]
  },
  {
   "cell_type": "markdown",
   "id": "06072914",
   "metadata": {},
   "source": [
    "####  Make 3 subplots with Country on x axis and Confirmed Deth Death rate on y axis"
   ]
  },
  {
   "cell_type": "code",
   "execution_count": 21,
   "id": "c62cfc39",
   "metadata": {},
   "outputs": [
    {
     "data": {
      "image/png": "[encoded data removed]",
      "text/plain": [
       "<Figure size 1500x500 with 3 Axes>"
      ]
     },
     "metadata": {},
     "output_type": "display_data"
    }
   ],
   "source": [
    "fig,(ax1,ax2,ax3) = plt.subplots(nrows =1, ncols = 3, figsize= (15,5))\n",
    "\n",
    "ax1.bar(europe_grouped['Country_Region'], europe_grouped['Confirmed'])\n",
    "ax2.bar(europe_grouped['Country_Region'], europe_grouped['Deaths'])\n",
    "ax3.bar(europe_grouped['Country_Region'], europe_grouped['Death_rate'])\n",
    "\n",
    "plt.tight_layout()\n",
    "plt.show()"
   ]
  }
 ],
 "metadata": {
  "kernelspec": {
   "display_name": "Python 3 (ipykernel)",
   "language": "python",
   "name": "python3"
  },
  "language_info": {
   "codemirror_mode": {
    "name": "ipython",
    "version": 3
   },
   "file_extension": ".py",
   "mimetype": "text/x-python",
   "name": "python",
   "nbconvert_exporter": "python",
   "pygments_lexer": "ipython3",
   "version": "3.11.5"
  }
 },
 "nbformat": 4,
 "nbformat_minor": 5
}

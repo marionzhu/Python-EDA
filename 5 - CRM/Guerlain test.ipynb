{
 "cells": [
  {
   "cell_type": "code",
   "execution_count": 2,
   "id": "a70f44ca",
   "metadata": {},
   "outputs": [],
   "source": [
    "import pandas as pd "
   ]
  },
  {
   "cell_type": "code",
   "execution_count": 3,
   "id": "b815ebaf",
   "metadata": {},
   "outputs": [
    {
     "data": {
      "text/html": [
       "<div>\n",
       "<style scoped>\n",
       "    .dataframe tbody tr th:only-of-type {\n",
       "        vertical-align: middle;\n",
       "    }\n",
       "\n",
       "    .dataframe tbody tr th {\n",
       "        vertical-align: top;\n",
       "    }\n",
       "\n",
       "    .dataframe thead th {\n",
       "        text-align: right;\n",
       "    }\n",
       "</style>\n",
       "<table border=\"1\" class=\"dataframe\">\n",
       "  <thead>\n",
       "    <tr style=\"text-align: right;\">\n",
       "      <th></th>\n",
       "      <th>Delivery Market Name</th>\n",
       "      <th>Campaign</th>\n",
       "      <th>Channel</th>\n",
       "      <th>Date</th>\n",
       "      <th>Com sent</th>\n",
       "      <th>with success</th>\n",
       "      <th>Nb of Opening</th>\n",
       "      <th>Nb of Clicks</th>\n",
       "      <th>Transactions generated</th>\n",
       "      <th>Turnover</th>\n",
       "      <th>Turnover Online</th>\n",
       "      <th>Turnover Offline</th>\n",
       "      <th>Nb of Items Bought</th>\n",
       "    </tr>\n",
       "  </thead>\n",
       "  <tbody>\n",
       "    <tr>\n",
       "      <th>0</th>\n",
       "      <td>France</td>\n",
       "      <td>MMAG Noël 2020 Boutiques</td>\n",
       "      <td>Direct Mail</td>\n",
       "      <td>2020-10-19 00:00:00</td>\n",
       "      <td>68412</td>\n",
       "      <td>68412</td>\n",
       "      <td>0</td>\n",
       "      <td>0</td>\n",
       "      <td>7627.0</td>\n",
       "      <td>1317752.77</td>\n",
       "      <td>162279.0</td>\n",
       "      <td>1155473.0</td>\n",
       "      <td>37477.0</td>\n",
       "    </tr>\n",
       "    <tr>\n",
       "      <th>1</th>\n",
       "      <td>France</td>\n",
       "      <td>Mailing Réouverture Boutiques Juin 2020</td>\n",
       "      <td>Direct Mail</td>\n",
       "      <td>2020-06-10 00:00:00</td>\n",
       "      <td>49280</td>\n",
       "      <td>49280</td>\n",
       "      <td>0</td>\n",
       "      <td>0</td>\n",
       "      <td>3377.0</td>\n",
       "      <td>547414.85</td>\n",
       "      <td>5316.0</td>\n",
       "      <td>542099.0</td>\n",
       "      <td>16625.0</td>\n",
       "    </tr>\n",
       "    <tr>\n",
       "      <th>2</th>\n",
       "      <td>France</td>\n",
       "      <td>Tactical_SMS_FR_Shopping_Noel_20201217</td>\n",
       "      <td>SMS/MMS</td>\n",
       "      <td>2020-12-17 00:00:00</td>\n",
       "      <td>66813</td>\n",
       "      <td>63580</td>\n",
       "      <td>0</td>\n",
       "      <td>0</td>\n",
       "      <td>2785.0</td>\n",
       "      <td>493857.09</td>\n",
       "      <td>16652.0</td>\n",
       "      <td>477206.0</td>\n",
       "      <td>15241.0</td>\n",
       "    </tr>\n",
       "    <tr>\n",
       "      <th>3</th>\n",
       "      <td>France</td>\n",
       "      <td>Mailing Postal MMAG Septembre 2020 Boutiques</td>\n",
       "      <td>Direct Mail</td>\n",
       "      <td>2020-07-24 00:00:00</td>\n",
       "      <td>49984</td>\n",
       "      <td>49984</td>\n",
       "      <td>0</td>\n",
       "      <td>0</td>\n",
       "      <td>2505.0</td>\n",
       "      <td>429004.67</td>\n",
       "      <td>12643.0</td>\n",
       "      <td>416362.0</td>\n",
       "      <td>12789.0</td>\n",
       "    </tr>\n",
       "    <tr>\n",
       "      <th>4</th>\n",
       "      <td>France</td>\n",
       "      <td>Tactical_MMS_fr_Noel_20201207</td>\n",
       "      <td>SMS/MMS</td>\n",
       "      <td>2020-12-11 00:00:00</td>\n",
       "      <td>55895</td>\n",
       "      <td>0</td>\n",
       "      <td>0</td>\n",
       "      <td>0</td>\n",
       "      <td>1922.0</td>\n",
       "      <td>335971.50</td>\n",
       "      <td>20745.0</td>\n",
       "      <td>315226.0</td>\n",
       "      <td>11013.0</td>\n",
       "    </tr>\n",
       "  </tbody>\n",
       "</table>\n",
       "</div>"
      ],
      "text/plain": [
       "  Delivery Market Name                                      Campaign  \\\n",
       "0               France                      MMAG Noël 2020 Boutiques   \n",
       "1               France       Mailing Réouverture Boutiques Juin 2020   \n",
       "2               France        Tactical_SMS_FR_Shopping_Noel_20201217   \n",
       "3               France  Mailing Postal MMAG Septembre 2020 Boutiques   \n",
       "4               France                 Tactical_MMS_fr_Noel_20201207   \n",
       "\n",
       "       Channel                 Date  Com sent  with success  Nb of Opening  \\\n",
       "0  Direct Mail  2020-10-19 00:00:00     68412         68412              0   \n",
       "1  Direct Mail  2020-06-10 00:00:00     49280         49280              0   \n",
       "2      SMS/MMS  2020-12-17 00:00:00     66813         63580              0   \n",
       "3  Direct Mail  2020-07-24 00:00:00     49984         49984              0   \n",
       "4      SMS/MMS  2020-12-11 00:00:00     55895             0              0   \n",
       "\n",
       "   Nb of Clicks  Transactions generated    Turnover  Turnover Online  \\\n",
       "0             0                  7627.0  1317752.77         162279.0   \n",
       "1             0                  3377.0   547414.85           5316.0   \n",
       "2             0                  2785.0   493857.09          16652.0   \n",
       "3             0                  2505.0   429004.67          12643.0   \n",
       "4             0                  1922.0   335971.50          20745.0   \n",
       "\n",
       "   Turnover Offline  Nb of Items Bought  \n",
       "0         1155473.0             37477.0  \n",
       "1          542099.0             16625.0  \n",
       "2          477206.0             15241.0  \n",
       "3          416362.0             12789.0  \n",
       "4          315226.0             11013.0  "
      ]
     },
     "execution_count": 3,
     "metadata": {},
     "output_type": "execute_result"
    }
   ],
   "source": [
    "df = pd.read_csv('/Users/zhusijie/Desktop/062023_Guerlain_Training_Data CRM.csv')\n",
    "df.head()"
   ]
  },
  {
   "cell_type": "code",
   "execution_count": 4,
   "id": "616f1c85",
   "metadata": {},
   "outputs": [
    {
     "data": {
      "text/plain": [
       "(3336, 13)"
      ]
     },
     "execution_count": 4,
     "metadata": {},
     "output_type": "execute_result"
    }
   ],
   "source": [
    "df.shape"
   ]
  },
  {
   "cell_type": "markdown",
   "id": "d3d73307",
   "metadata": {},
   "source": [
    "### Open rate by channel"
   ]
  },
  {
   "cell_type": "code",
   "execution_count": 5,
   "id": "eec69aa7",
   "metadata": {},
   "outputs": [
    {
     "data": {
      "text/html": [
       "<div>\n",
       "<style scoped>\n",
       "    .dataframe tbody tr th:only-of-type {\n",
       "        vertical-align: middle;\n",
       "    }\n",
       "\n",
       "    .dataframe tbody tr th {\n",
       "        vertical-align: top;\n",
       "    }\n",
       "\n",
       "    .dataframe thead th {\n",
       "        text-align: right;\n",
       "    }\n",
       "</style>\n",
       "<table border=\"1\" class=\"dataframe\">\n",
       "  <thead>\n",
       "    <tr style=\"text-align: right;\">\n",
       "      <th></th>\n",
       "      <th>Channel</th>\n",
       "      <th>count</th>\n",
       "    </tr>\n",
       "  </thead>\n",
       "  <tbody>\n",
       "    <tr>\n",
       "      <th>0</th>\n",
       "      <td>Email</td>\n",
       "      <td>3052</td>\n",
       "    </tr>\n",
       "    <tr>\n",
       "      <th>1</th>\n",
       "      <td>SMS/MMS</td>\n",
       "      <td>141</td>\n",
       "    </tr>\n",
       "    <tr>\n",
       "      <th>2</th>\n",
       "      <td>Direct Mail</td>\n",
       "      <td>103</td>\n",
       "    </tr>\n",
       "    <tr>\n",
       "      <th>3</th>\n",
       "      <td>Clienteling</td>\n",
       "      <td>40</td>\n",
       "    </tr>\n",
       "  </tbody>\n",
       "</table>\n",
       "</div>"
      ],
      "text/plain": [
       "       Channel  count\n",
       "0        Email   3052\n",
       "1      SMS/MMS    141\n",
       "2  Direct Mail    103\n",
       "3  Clienteling     40"
      ]
     },
     "execution_count": 5,
     "metadata": {},
     "output_type": "execute_result"
    }
   ],
   "source": [
    "df['Channel'].value_counts().reset_index()"
   ]
  },
  {
   "cell_type": "markdown",
   "id": "4baef5ce",
   "metadata": {},
   "source": [
    "Most of Campaign were made in the email channel"
   ]
  },
  {
   "cell_type": "code",
   "execution_count": 6,
   "id": "669cb4ba",
   "metadata": {},
   "outputs": [],
   "source": [
    "by_channel = df.groupby('Channel')[['Com sent','with success','Nb of Opening','Nb of Clicks','Transactions generated']].sum().reset_index()\n",
    "by_channel['open_rate'] = by_channel['Nb of Opening']/by_channel['Com sent']"
   ]
  },
  {
   "cell_type": "code",
   "execution_count": 7,
   "id": "a057b49f",
   "metadata": {},
   "outputs": [],
   "source": [
    "by_channel['success_rate'] = by_channel['with success']/by_channel['Com sent']\n",
    "by_channel['click_rate'] = by_channel['Nb of Clicks']/by_channel['Com sent']"
   ]
  },
  {
   "cell_type": "code",
   "execution_count": 8,
   "id": "62751b31",
   "metadata": {},
   "outputs": [],
   "source": [
    "by_channel['taux_clic'] = by_channel['Nb of Clicks']/by_channel['with success']\n",
    "by_channel['taux_active'] = by_channel['Nb of Clicks']/ by_channel['Nb of Opening']"
   ]
  },
  {
   "cell_type": "code",
   "execution_count": 9,
   "id": "6aada9b3",
   "metadata": {},
   "outputs": [],
   "source": [
    "by_channel['taux conversion'] = by_channel['Transactions generated']/by_channel['Com sent']"
   ]
  },
  {
   "cell_type": "code",
   "execution_count": 10,
   "id": "c4710cd5",
   "metadata": {},
   "outputs": [
    {
     "data": {
      "text/html": [
       "<div>\n",
       "<style scoped>\n",
       "    .dataframe tbody tr th:only-of-type {\n",
       "        vertical-align: middle;\n",
       "    }\n",
       "\n",
       "    .dataframe tbody tr th {\n",
       "        vertical-align: top;\n",
       "    }\n",
       "\n",
       "    .dataframe thead th {\n",
       "        text-align: right;\n",
       "    }\n",
       "</style>\n",
       "<table border=\"1\" class=\"dataframe\">\n",
       "  <thead>\n",
       "    <tr style=\"text-align: right;\">\n",
       "      <th></th>\n",
       "      <th>Channel</th>\n",
       "      <th>Com sent</th>\n",
       "      <th>with success</th>\n",
       "      <th>Nb of Opening</th>\n",
       "      <th>Nb of Clicks</th>\n",
       "      <th>Transactions generated</th>\n",
       "      <th>open_rate</th>\n",
       "      <th>success_rate</th>\n",
       "      <th>click_rate</th>\n",
       "      <th>taux_clic</th>\n",
       "      <th>taux_active</th>\n",
       "      <th>taux conversion</th>\n",
       "    </tr>\n",
       "  </thead>\n",
       "  <tbody>\n",
       "    <tr>\n",
       "      <th>0</th>\n",
       "      <td>Clienteling</td>\n",
       "      <td>309348</td>\n",
       "      <td>12333</td>\n",
       "      <td>0</td>\n",
       "      <td>0</td>\n",
       "      <td>1648.0</td>\n",
       "      <td>0.000000</td>\n",
       "      <td>0.039868</td>\n",
       "      <td>0.000000</td>\n",
       "      <td>0.00000</td>\n",
       "      <td>NaN</td>\n",
       "      <td>0.005327</td>\n",
       "    </tr>\n",
       "    <tr>\n",
       "      <th>1</th>\n",
       "      <td>Direct Mail</td>\n",
       "      <td>553876</td>\n",
       "      <td>553159</td>\n",
       "      <td>0</td>\n",
       "      <td>0</td>\n",
       "      <td>26625.0</td>\n",
       "      <td>0.000000</td>\n",
       "      <td>0.998705</td>\n",
       "      <td>0.000000</td>\n",
       "      <td>0.00000</td>\n",
       "      <td>NaN</td>\n",
       "      <td>0.048070</td>\n",
       "    </tr>\n",
       "    <tr>\n",
       "      <th>2</th>\n",
       "      <td>Email</td>\n",
       "      <td>23266481</td>\n",
       "      <td>22979760</td>\n",
       "      <td>4175387</td>\n",
       "      <td>429021</td>\n",
       "      <td>23863.0</td>\n",
       "      <td>0.179459</td>\n",
       "      <td>0.987677</td>\n",
       "      <td>0.018439</td>\n",
       "      <td>0.01867</td>\n",
       "      <td>0.10275</td>\n",
       "      <td>0.001026</td>\n",
       "    </tr>\n",
       "    <tr>\n",
       "      <th>3</th>\n",
       "      <td>SMS/MMS</td>\n",
       "      <td>676381</td>\n",
       "      <td>469014</td>\n",
       "      <td>0</td>\n",
       "      <td>0</td>\n",
       "      <td>14045.0</td>\n",
       "      <td>0.000000</td>\n",
       "      <td>0.693417</td>\n",
       "      <td>0.000000</td>\n",
       "      <td>0.00000</td>\n",
       "      <td>NaN</td>\n",
       "      <td>0.020765</td>\n",
       "    </tr>\n",
       "  </tbody>\n",
       "</table>\n",
       "</div>"
      ],
      "text/plain": [
       "       Channel  Com sent  with success  Nb of Opening  Nb of Clicks  \\\n",
       "0  Clienteling    309348         12333              0             0   \n",
       "1  Direct Mail    553876        553159              0             0   \n",
       "2        Email  23266481      22979760        4175387        429021   \n",
       "3      SMS/MMS    676381        469014              0             0   \n",
       "\n",
       "   Transactions generated  open_rate  success_rate  click_rate  taux_clic  \\\n",
       "0                  1648.0   0.000000      0.039868    0.000000    0.00000   \n",
       "1                 26625.0   0.000000      0.998705    0.000000    0.00000   \n",
       "2                 23863.0   0.179459      0.987677    0.018439    0.01867   \n",
       "3                 14045.0   0.000000      0.693417    0.000000    0.00000   \n",
       "\n",
       "   taux_active  taux conversion  \n",
       "0          NaN         0.005327  \n",
       "1          NaN         0.048070  \n",
       "2      0.10275         0.001026  \n",
       "3          NaN         0.020765  "
      ]
     },
     "execution_count": 10,
     "metadata": {},
     "output_type": "execute_result"
    }
   ],
   "source": [
    "by_channel"
   ]
  },
  {
   "cell_type": "markdown",
   "id": "a6389f22",
   "metadata": {},
   "source": [
    "conversition rate"
   ]
  },
  {
   "cell_type": "code",
   "execution_count": 11,
   "id": "21a929b0",
   "metadata": {},
   "outputs": [
    {
     "data": {
      "text/plain": [
       "<Axes: xlabel='Channel'>"
      ]
     },
     "execution_count": 11,
     "metadata": {},
     "output_type": "execute_result"
    },
    {
     "data": {
      "image/png": "[encoded data removed]",
      "text/plain": [
       "<Figure size 640x480 with 1 Axes>"
      ]
     },
     "metadata": {},
     "output_type": "display_data"
    }
   ],
   "source": [
    "by_channel[['Channel', 'taux conversion']].plot(kind = 'bar',x='Channel', y='taux conversion', rot = 45)"
   ]
  },
  {
   "cell_type": "markdown",
   "id": "80f43dac",
   "metadata": {},
   "source": [
    "Missing data ?  \n",
    "- Direct email and Email has higher success rate\n",
    "- SMS/MMS has very low success rate, but it has second high conversion rate, so we can send more SMS/MMS\n",
    "- Email has lowest conversion rate, we may need to do further analysis\n",
    "- Direct email has higher conversion rate"
   ]
  },
  {
   "cell_type": "markdown",
   "id": "d5145455",
   "metadata": {},
   "source": [
    "### Open rate by market"
   ]
  },
  {
   "cell_type": "code",
   "execution_count": 12,
   "id": "6dfbb72f",
   "metadata": {},
   "outputs": [],
   "source": [
    "market = df.groupby('Delivery Market Name')[['Com sent','with success','Nb of Opening','Nb of Clicks','Transactions generated']].sum().reset_index()"
   ]
  },
  {
   "cell_type": "code",
   "execution_count": 13,
   "id": "9872ec82",
   "metadata": {},
   "outputs": [],
   "source": [
    "market['open_rate'] = market['Nb of Opening']/market['Com sent']\n",
    "market['taux_clic'] = market['Nb of Clicks']/market['with success']\n",
    "market['taux_active'] = market['Nb of Clicks']/ market['Nb of Opening']\n",
    "market['taux conversion'] = market['Transactions generated']/market['Com sent']"
   ]
  },
  {
   "cell_type": "code",
   "execution_count": 14,
   "id": "7166008a",
   "metadata": {},
   "outputs": [
    {
     "data": {
      "text/html": [
       "<div>\n",
       "<style scoped>\n",
       "    .dataframe tbody tr th:only-of-type {\n",
       "        vertical-align: middle;\n",
       "    }\n",
       "\n",
       "    .dataframe tbody tr th {\n",
       "        vertical-align: top;\n",
       "    }\n",
       "\n",
       "    .dataframe thead th {\n",
       "        text-align: right;\n",
       "    }\n",
       "</style>\n",
       "<table border=\"1\" class=\"dataframe\">\n",
       "  <thead>\n",
       "    <tr style=\"text-align: right;\">\n",
       "      <th></th>\n",
       "      <th>Delivery Market Name</th>\n",
       "      <th>Com sent</th>\n",
       "      <th>with success</th>\n",
       "      <th>Nb of Opening</th>\n",
       "      <th>Nb of Clicks</th>\n",
       "      <th>Transactions generated</th>\n",
       "      <th>open_rate</th>\n",
       "      <th>taux_clic</th>\n",
       "      <th>taux_active</th>\n",
       "      <th>taux conversion</th>\n",
       "    </tr>\n",
       "  </thead>\n",
       "  <tbody>\n",
       "    <tr>\n",
       "      <th>0</th>\n",
       "      <td>France</td>\n",
       "      <td>24745526</td>\n",
       "      <td>23957038</td>\n",
       "      <td>4153627</td>\n",
       "      <td>425159</td>\n",
       "      <td>65963.0</td>\n",
       "      <td>0.167854</td>\n",
       "      <td>0.017747</td>\n",
       "      <td>0.102358</td>\n",
       "      <td>0.002666</td>\n",
       "    </tr>\n",
       "    <tr>\n",
       "      <th>1</th>\n",
       "      <td>Italy</td>\n",
       "      <td>60560</td>\n",
       "      <td>57228</td>\n",
       "      <td>21760</td>\n",
       "      <td>3862</td>\n",
       "      <td>218.0</td>\n",
       "      <td>0.359313</td>\n",
       "      <td>0.067484</td>\n",
       "      <td>0.177482</td>\n",
       "      <td>0.003600</td>\n",
       "    </tr>\n",
       "  </tbody>\n",
       "</table>\n",
       "</div>"
      ],
      "text/plain": [
       "  Delivery Market Name  Com sent  with success  Nb of Opening  Nb of Clicks  \\\n",
       "0               France  24745526      23957038        4153627        425159   \n",
       "1                Italy     60560         57228          21760          3862   \n",
       "\n",
       "   Transactions generated  open_rate  taux_clic  taux_active  taux conversion  \n",
       "0                 65963.0   0.167854   0.017747     0.102358         0.002666  \n",
       "1                   218.0   0.359313   0.067484     0.177482         0.003600  "
      ]
     },
     "execution_count": 14,
     "metadata": {},
     "output_type": "execute_result"
    }
   ],
   "source": [
    "market"
   ]
  },
  {
   "cell_type": "markdown",
   "id": "fd30fa56",
   "metadata": {},
   "source": [
    "- Italy has much higher open rate and click rate and clic rate, even it has lower success rate.\n",
    "- BUT there is no big difference in conversion rate, not as much as open rate. so may be the email title is very interesting, but no good for conversion"
   ]
  },
  {
   "cell_type": "markdown",
   "id": "2f25c76d",
   "metadata": {},
   "source": [
    "### open rate details by market and channel "
   ]
  },
  {
   "cell_type": "code",
   "execution_count": 15,
   "id": "f7637d1f",
   "metadata": {},
   "outputs": [],
   "source": [
    "details = df.groupby(['Delivery Market Name','Channel'])[['Com sent','with success','Nb of Opening','Nb of Clicks','Transactions generated']].sum().reset_index()"
   ]
  },
  {
   "cell_type": "code",
   "execution_count": 16,
   "id": "0da829cc",
   "metadata": {},
   "outputs": [],
   "source": [
    "details['open_rate'] = details['Nb of Opening']/details['Com sent']"
   ]
  },
  {
   "cell_type": "code",
   "execution_count": 17,
   "id": "3d07726f",
   "metadata": {},
   "outputs": [],
   "source": [
    "details['taux_clic'] = details['Nb of Clicks']/details['with success']\n",
    "details['taux_active'] = details['Nb of Clicks']/ details['Nb of Opening']\n",
    "details['taux conversion'] = details['Transactions generated']/details['Com sent']"
   ]
  },
  {
   "cell_type": "code",
   "execution_count": 18,
   "id": "acb0dc3f",
   "metadata": {},
   "outputs": [
    {
     "data": {
      "text/html": [
       "<div>\n",
       "<style scoped>\n",
       "    .dataframe tbody tr th:only-of-type {\n",
       "        vertical-align: middle;\n",
       "    }\n",
       "\n",
       "    .dataframe tbody tr th {\n",
       "        vertical-align: top;\n",
       "    }\n",
       "\n",
       "    .dataframe thead th {\n",
       "        text-align: right;\n",
       "    }\n",
       "</style>\n",
       "<table border=\"1\" class=\"dataframe\">\n",
       "  <thead>\n",
       "    <tr style=\"text-align: right;\">\n",
       "      <th></th>\n",
       "      <th>Delivery Market Name</th>\n",
       "      <th>Channel</th>\n",
       "      <th>Com sent</th>\n",
       "      <th>with success</th>\n",
       "      <th>Nb of Opening</th>\n",
       "      <th>Nb of Clicks</th>\n",
       "      <th>Transactions generated</th>\n",
       "      <th>open_rate</th>\n",
       "      <th>taux_clic</th>\n",
       "      <th>taux_active</th>\n",
       "      <th>taux conversion</th>\n",
       "    </tr>\n",
       "  </thead>\n",
       "  <tbody>\n",
       "    <tr>\n",
       "      <th>0</th>\n",
       "      <td>France</td>\n",
       "      <td>Clienteling</td>\n",
       "      <td>309348</td>\n",
       "      <td>12333</td>\n",
       "      <td>0</td>\n",
       "      <td>0</td>\n",
       "      <td>1648.0</td>\n",
       "      <td>0.000000</td>\n",
       "      <td>0.000000</td>\n",
       "      <td>NaN</td>\n",
       "      <td>0.005327</td>\n",
       "    </tr>\n",
       "    <tr>\n",
       "      <th>1</th>\n",
       "      <td>France</td>\n",
       "      <td>Direct Mail</td>\n",
       "      <td>553876</td>\n",
       "      <td>553159</td>\n",
       "      <td>0</td>\n",
       "      <td>0</td>\n",
       "      <td>26625.0</td>\n",
       "      <td>0.000000</td>\n",
       "      <td>0.000000</td>\n",
       "      <td>NaN</td>\n",
       "      <td>0.048070</td>\n",
       "    </tr>\n",
       "    <tr>\n",
       "      <th>2</th>\n",
       "      <td>France</td>\n",
       "      <td>Email</td>\n",
       "      <td>23205921</td>\n",
       "      <td>22922532</td>\n",
       "      <td>4153627</td>\n",
       "      <td>425159</td>\n",
       "      <td>23645.0</td>\n",
       "      <td>0.178990</td>\n",
       "      <td>0.018548</td>\n",
       "      <td>0.102358</td>\n",
       "      <td>0.001019</td>\n",
       "    </tr>\n",
       "    <tr>\n",
       "      <th>3</th>\n",
       "      <td>France</td>\n",
       "      <td>SMS/MMS</td>\n",
       "      <td>676381</td>\n",
       "      <td>469014</td>\n",
       "      <td>0</td>\n",
       "      <td>0</td>\n",
       "      <td>14045.0</td>\n",
       "      <td>0.000000</td>\n",
       "      <td>0.000000</td>\n",
       "      <td>NaN</td>\n",
       "      <td>0.020765</td>\n",
       "    </tr>\n",
       "    <tr>\n",
       "      <th>4</th>\n",
       "      <td>Italy</td>\n",
       "      <td>Email</td>\n",
       "      <td>60560</td>\n",
       "      <td>57228</td>\n",
       "      <td>21760</td>\n",
       "      <td>3862</td>\n",
       "      <td>218.0</td>\n",
       "      <td>0.359313</td>\n",
       "      <td>0.067484</td>\n",
       "      <td>0.177482</td>\n",
       "      <td>0.003600</td>\n",
       "    </tr>\n",
       "  </tbody>\n",
       "</table>\n",
       "</div>"
      ],
      "text/plain": [
       "  Delivery Market Name      Channel  Com sent  with success  Nb of Opening  \\\n",
       "0               France  Clienteling    309348         12333              0   \n",
       "1               France  Direct Mail    553876        553159              0   \n",
       "2               France        Email  23205921      22922532        4153627   \n",
       "3               France      SMS/MMS    676381        469014              0   \n",
       "4                Italy        Email     60560         57228          21760   \n",
       "\n",
       "   Nb of Clicks  Transactions generated  open_rate  taux_clic  taux_active  \\\n",
       "0             0                  1648.0   0.000000   0.000000          NaN   \n",
       "1             0                 26625.0   0.000000   0.000000          NaN   \n",
       "2        425159                 23645.0   0.178990   0.018548     0.102358   \n",
       "3             0                 14045.0   0.000000   0.000000          NaN   \n",
       "4          3862                   218.0   0.359313   0.067484     0.177482   \n",
       "\n",
       "   taux conversion  \n",
       "0         0.005327  \n",
       "1         0.048070  \n",
       "2         0.001019  \n",
       "3         0.020765  \n",
       "4         0.003600  "
      ]
     },
     "execution_count": 18,
     "metadata": {},
     "output_type": "execute_result"
    }
   ],
   "source": [
    "details"
   ]
  },
  {
   "cell_type": "markdown",
   "id": "c92e54ac",
   "metadata": {},
   "source": [
    "- Italy has much higher email open rate, 35.93% VS 17.89%\n",
    "- Italy has much higher clic rate and active rate 6.74% VS 1.85%, 17.75% VS 10.24%\n"
   ]
  },
  {
   "cell_type": "code",
   "execution_count": 19,
   "id": "184310f0",
   "metadata": {},
   "outputs": [
    {
     "data": {
      "text/plain": [
       "<Axes: xlabel='key'>"
      ]
     },
     "execution_count": 19,
     "metadata": {},
     "output_type": "execute_result"
    },
    {
     "data": {
      "image/png": "[encoded data removed]",
      "text/plain": [
       "<Figure size 640x480 with 1 Axes>"
      ]
     },
     "metadata": {},
     "output_type": "display_data"
    }
   ],
   "source": [
    "details['key'] = details['Delivery Market Name']+details['Channel']\n",
    "details[['key','taux conversion' ]].plot(kind = 'bar',x='key', y='taux conversion', rot = 45)"
   ]
  },
  {
   "cell_type": "markdown",
   "id": "2141ee3b",
   "metadata": {},
   "source": [
    "### PS : by different month, we have 12 month, we can calculate to see if month has an impact on conversion rate or other kpis"
   ]
  },
  {
   "cell_type": "code",
   "execution_count": 20,
   "id": "ac9c8354",
   "metadata": {},
   "outputs": [],
   "source": [
    "# change date to datetime type instead of object\n",
    "df['Date'] = pd.to_datetime(df['Date'])"
   ]
  },
  {
   "cell_type": "code",
   "execution_count": 21,
   "id": "a9006725",
   "metadata": {},
   "outputs": [],
   "source": [
    "import datetime as dt\n",
    "df['month'] = df['Date'].dt.month"
   ]
  },
  {
   "cell_type": "code",
   "execution_count": 22,
   "id": "090d1982",
   "metadata": {},
   "outputs": [],
   "source": [
    "months = df.groupby('month')[['Com sent','with success','Nb of Opening','Nb of Clicks','Transactions generated']].sum().reset_index()"
   ]
  },
  {
   "cell_type": "code",
   "execution_count": 23,
   "id": "ee09a800",
   "metadata": {},
   "outputs": [],
   "source": [
    "months['open_rate'] = months['Nb of Opening']/months['Com sent']\n",
    "months['taux_clic'] = months['Nb of Clicks']/months['with success']\n",
    "months['taux_active'] = months['Nb of Clicks']/ months['Nb of Opening']\n",
    "months['taux conversion'] = months['Transactions generated']/months['Com sent']"
   ]
  },
  {
   "cell_type": "code",
   "execution_count": 24,
   "id": "14482183",
   "metadata": {},
   "outputs": [
    {
     "data": {
      "text/html": [
       "<div>\n",
       "<style scoped>\n",
       "    .dataframe tbody tr th:only-of-type {\n",
       "        vertical-align: middle;\n",
       "    }\n",
       "\n",
       "    .dataframe tbody tr th {\n",
       "        vertical-align: top;\n",
       "    }\n",
       "\n",
       "    .dataframe thead th {\n",
       "        text-align: right;\n",
       "    }\n",
       "</style>\n",
       "<table border=\"1\" class=\"dataframe\">\n",
       "  <thead>\n",
       "    <tr style=\"text-align: right;\">\n",
       "      <th></th>\n",
       "      <th>month</th>\n",
       "      <th>Com sent</th>\n",
       "      <th>with success</th>\n",
       "      <th>Nb of Opening</th>\n",
       "      <th>Nb of Clicks</th>\n",
       "      <th>Transactions generated</th>\n",
       "      <th>open_rate</th>\n",
       "      <th>taux_clic</th>\n",
       "      <th>taux_active</th>\n",
       "      <th>taux conversion</th>\n",
       "    </tr>\n",
       "  </thead>\n",
       "  <tbody>\n",
       "    <tr>\n",
       "      <th>0</th>\n",
       "      <td>1</td>\n",
       "      <td>1314055</td>\n",
       "      <td>1290960</td>\n",
       "      <td>254223</td>\n",
       "      <td>21531</td>\n",
       "      <td>4126.0</td>\n",
       "      <td>0.193465</td>\n",
       "      <td>0.016678</td>\n",
       "      <td>0.084693</td>\n",
       "      <td>0.003140</td>\n",
       "    </tr>\n",
       "    <tr>\n",
       "      <th>1</th>\n",
       "      <td>2</td>\n",
       "      <td>1359980</td>\n",
       "      <td>1341180</td>\n",
       "      <td>252222</td>\n",
       "      <td>25401</td>\n",
       "      <td>6484.0</td>\n",
       "      <td>0.185460</td>\n",
       "      <td>0.018939</td>\n",
       "      <td>0.100709</td>\n",
       "      <td>0.004768</td>\n",
       "    </tr>\n",
       "    <tr>\n",
       "      <th>2</th>\n",
       "      <td>3</td>\n",
       "      <td>1361061</td>\n",
       "      <td>1340935</td>\n",
       "      <td>354550</td>\n",
       "      <td>33170</td>\n",
       "      <td>1463.0</td>\n",
       "      <td>0.260495</td>\n",
       "      <td>0.024736</td>\n",
       "      <td>0.093555</td>\n",
       "      <td>0.001075</td>\n",
       "    </tr>\n",
       "    <tr>\n",
       "      <th>3</th>\n",
       "      <td>4</td>\n",
       "      <td>2260106</td>\n",
       "      <td>2204966</td>\n",
       "      <td>389958</td>\n",
       "      <td>43458</td>\n",
       "      <td>1951.0</td>\n",
       "      <td>0.172540</td>\n",
       "      <td>0.019709</td>\n",
       "      <td>0.111443</td>\n",
       "      <td>0.000863</td>\n",
       "    </tr>\n",
       "    <tr>\n",
       "      <th>4</th>\n",
       "      <td>5</td>\n",
       "      <td>2694118</td>\n",
       "      <td>2663311</td>\n",
       "      <td>455753</td>\n",
       "      <td>49698</td>\n",
       "      <td>4037.0</td>\n",
       "      <td>0.169166</td>\n",
       "      <td>0.018660</td>\n",
       "      <td>0.109046</td>\n",
       "      <td>0.001498</td>\n",
       "    </tr>\n",
       "    <tr>\n",
       "      <th>5</th>\n",
       "      <td>6</td>\n",
       "      <td>1809080</td>\n",
       "      <td>1785282</td>\n",
       "      <td>281891</td>\n",
       "      <td>30488</td>\n",
       "      <td>6492.0</td>\n",
       "      <td>0.155820</td>\n",
       "      <td>0.017077</td>\n",
       "      <td>0.108155</td>\n",
       "      <td>0.003589</td>\n",
       "    </tr>\n",
       "    <tr>\n",
       "      <th>6</th>\n",
       "      <td>7</td>\n",
       "      <td>2439881</td>\n",
       "      <td>2412786</td>\n",
       "      <td>383827</td>\n",
       "      <td>34561</td>\n",
       "      <td>6097.0</td>\n",
       "      <td>0.157314</td>\n",
       "      <td>0.014324</td>\n",
       "      <td>0.090043</td>\n",
       "      <td>0.002499</td>\n",
       "    </tr>\n",
       "    <tr>\n",
       "      <th>7</th>\n",
       "      <td>8</td>\n",
       "      <td>1446418</td>\n",
       "      <td>1412760</td>\n",
       "      <td>229686</td>\n",
       "      <td>18865</td>\n",
       "      <td>2778.0</td>\n",
       "      <td>0.158796</td>\n",
       "      <td>0.013353</td>\n",
       "      <td>0.082134</td>\n",
       "      <td>0.001921</td>\n",
       "    </tr>\n",
       "    <tr>\n",
       "      <th>8</th>\n",
       "      <td>9</td>\n",
       "      <td>1766754</td>\n",
       "      <td>1733285</td>\n",
       "      <td>334191</td>\n",
       "      <td>33495</td>\n",
       "      <td>4869.0</td>\n",
       "      <td>0.189155</td>\n",
       "      <td>0.019325</td>\n",
       "      <td>0.100227</td>\n",
       "      <td>0.002756</td>\n",
       "    </tr>\n",
       "    <tr>\n",
       "      <th>9</th>\n",
       "      <td>10</td>\n",
       "      <td>2452993</td>\n",
       "      <td>2403332</td>\n",
       "      <td>338094</td>\n",
       "      <td>35955</td>\n",
       "      <td>14632.0</td>\n",
       "      <td>0.137829</td>\n",
       "      <td>0.014960</td>\n",
       "      <td>0.106346</td>\n",
       "      <td>0.005965</td>\n",
       "    </tr>\n",
       "    <tr>\n",
       "      <th>10</th>\n",
       "      <td>11</td>\n",
       "      <td>3043141</td>\n",
       "      <td>2786933</td>\n",
       "      <td>482490</td>\n",
       "      <td>59977</td>\n",
       "      <td>4933.0</td>\n",
       "      <td>0.158550</td>\n",
       "      <td>0.021521</td>\n",
       "      <td>0.124307</td>\n",
       "      <td>0.001621</td>\n",
       "    </tr>\n",
       "    <tr>\n",
       "      <th>11</th>\n",
       "      <td>12</td>\n",
       "      <td>2858499</td>\n",
       "      <td>2638536</td>\n",
       "      <td>418502</td>\n",
       "      <td>42422</td>\n",
       "      <td>8319.0</td>\n",
       "      <td>0.146406</td>\n",
       "      <td>0.016078</td>\n",
       "      <td>0.101366</td>\n",
       "      <td>0.002910</td>\n",
       "    </tr>\n",
       "  </tbody>\n",
       "</table>\n",
       "</div>"
      ],
      "text/plain": [
       "    month  Com sent  with success  Nb of Opening  Nb of Clicks  \\\n",
       "0       1   1314055       1290960         254223         21531   \n",
       "1       2   1359980       1341180         252222         25401   \n",
       "2       3   1361061       1340935         354550         33170   \n",
       "3       4   2260106       2204966         389958         43458   \n",
       "4       5   2694118       2663311         455753         49698   \n",
       "5       6   1809080       1785282         281891         30488   \n",
       "6       7   2439881       2412786         383827         34561   \n",
       "7       8   1446418       1412760         229686         18865   \n",
       "8       9   1766754       1733285         334191         33495   \n",
       "9      10   2452993       2403332         338094         35955   \n",
       "10     11   3043141       2786933         482490         59977   \n",
       "11     12   2858499       2638536         418502         42422   \n",
       "\n",
       "    Transactions generated  open_rate  taux_clic  taux_active  taux conversion  \n",
       "0                   4126.0   0.193465   0.016678     0.084693         0.003140  \n",
       "1                   6484.0   0.185460   0.018939     0.100709         0.004768  \n",
       "2                   1463.0   0.260495   0.024736     0.093555         0.001075  \n",
       "3                   1951.0   0.172540   0.019709     0.111443         0.000863  \n",
       "4                   4037.0   0.169166   0.018660     0.109046         0.001498  \n",
       "5                   6492.0   0.155820   0.017077     0.108155         0.003589  \n",
       "6                   6097.0   0.157314   0.014324     0.090043         0.002499  \n",
       "7                   2778.0   0.158796   0.013353     0.082134         0.001921  \n",
       "8                   4869.0   0.189155   0.019325     0.100227         0.002756  \n",
       "9                  14632.0   0.137829   0.014960     0.106346         0.005965  \n",
       "10                  4933.0   0.158550   0.021521     0.124307         0.001621  \n",
       "11                  8319.0   0.146406   0.016078     0.101366         0.002910  "
      ]
     },
     "execution_count": 24,
     "metadata": {},
     "output_type": "execute_result"
    }
   ],
   "source": [
    "months"
   ]
  },
  {
   "cell_type": "code",
   "execution_count": 25,
   "id": "f248d1b3",
   "metadata": {},
   "outputs": [
    {
     "data": {
      "text/plain": [
       "<Axes: xlabel='month'>"
      ]
     },
     "execution_count": 25,
     "metadata": {},
     "output_type": "execute_result"
    },
    {
     "data": {
      "image/png": "[encoded data removed]",
      "text/plain": [
       "<Figure size 640x480 with 1 Axes>"
      ]
     },
     "metadata": {},
     "output_type": "display_data"
    }
   ],
   "source": [
    "months.plot(kind='line', x= 'month', y ='Transactions generated', rot=45)"
   ]
  }
 ],
 "metadata": {
  "kernelspec": {
   "display_name": "Python 3 (ipykernel)",
   "language": "python",
   "name": "python3"
  },
  "language_info": {
   "codemirror_mode": {
    "name": "ipython",
    "version": 3
   },
   "file_extension": ".py",
   "mimetype": "text/x-python",
   "name": "python",
   "nbconvert_exporter": "python",
   "pygments_lexer": "ipython3",
   "version": "3.11.5"
  }
 },
 "nbformat": 4,
 "nbformat_minor": 5
}

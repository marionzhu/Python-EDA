{
 "cells": [
  {
   "cell_type": "markdown",
   "id": "4569f769",
   "metadata": {},
   "source": [
    "# Part I : General questions"
   ]
  },
  {
   "cell_type": "markdown",
   "id": "33af527e",
   "metadata": {},
   "source": [
    "### a) Based on your gameplay experience, propose a simple A/B test that could deliver a quick win. What metrics would you monitor to evaluate its success?"
   ]
  },
  {
   "cell_type": "markdown",
   "id": "6da01077",
   "metadata": {},
   "source": [
    "✅ **Proposal 1 : Rewarded \"Undo\" Button** <br>\n",
    "\n",
    "Offer 1 “Undo” per session for watching a rewarded video (RV). This can encourage ad engagement while reducing frustration from mistakes. Also make users get the habit of using power-ups so that they are more willing to pay in later levels.\n",
    "\n",
    "✨ Metrics to monitor between control group and testing group:\n",
    "* RV ads watched per DAU\n",
    "* Session length\n",
    "* Game completions rate\n",
    "* Retention (Day 1/3)"
   ]
  },
  {
   "cell_type": "markdown",
   "id": "b989db33",
   "metadata": {},
   "source": [
    "✅ **Proposal 2 : “Continue Level” Discount** \n",
    "\n",
    "Offer a discounted coin price to retry failed levels, this is very important for levels higher than Level 60 since we have **Tower Streak**. Users might want to keep their level and not fall to fail the tower. This can encourage users to keeping trying and increase monetization.\n",
    "\n",
    "✨ Metric to monitor between control group and testing group: \n",
    "* Retry Rate \n",
    "* Coin Spend \n",
    "* Retention Next Session"
   ]
  },
  {
   "cell_type": "markdown",
   "id": "6a0e07f4",
   "metadata": {},
   "source": [
    "### b) If you were asked to brainstorm ways to improve the game’s long-term retention, and based on your experience playing it, what new feature or system would you propose adding to support this goal?"
   ]
  },
  {
   "cell_type": "markdown",
   "id": "046433f0",
   "metadata": {},
   "source": [
    "**Proposal 1 : 🤝 Social Layer : Friend Leaderboards + Social Sharing**\n",
    "\n",
    "Allow friend invites,so friends can play together and see each others levels. Allow friends to send/receive “lives” or “undo tokens”. Add optional social logins with small rewards. Social connections dramatically boost retention. \n",
    "\n",
    "We can also send notifications like : \n",
    "* 🎉 “Your friend completed today’s puzzle!”\n",
    "* 👥 Invite reward: free booster pack or undo.\n"
   ]
  },
  {
   "cell_type": "markdown",
   "id": "3acebe4f",
   "metadata": {},
   "source": [
    "**Proposal 2 : 🧱 Build Visual Map for Progression**\n",
    "\n",
    "Build a **Visual Map** (like Candy Crush) showing level progress. Players can also collect **themed card decks** (for example :  \"Jungle\", \"Galaxy\") by playing. Include “milestone chests” every 10-20 levels. This can Adds long-term collection motivation and personalisation.\n",
    "\n",
    "* 🎨 Unlock cosmetic decks or animations.\n",
    "* 🏆 Progression bar = visible “journey.”\n",
    "\n",
    "---\n"
   ]
  },
  {
   "cell_type": "markdown",
   "id": "c979afe5",
   "metadata": {},
   "source": [
    "# Part II: Tracking Plan – “Race” & “Tower Streak” LiveOps Event"
   ]
  },
  {
   "cell_type": "markdown",
   "id": "90add4a8",
   "metadata": {},
   "source": [
    "### a) What are the objectives of the two events according to you ?"
   ]
  },
  {
   "cell_type": "markdown",
   "id": "ef6b4cd3",
   "metadata": {},
   "source": [
    "🔵 For Tower Streak, the main goal is **retention and monetization**. It encourages daily play over multiple days (3-day format) which is good for retention. Once user fails one level, the event will end without reward, to maintain the win streak, users have higher chance to pay for power-ups which will boost IAP.\n",
    "\n",
    "🟡 For Race, the main objective is to increase **engagement** and **extend session numbers and session length**. By creating a competition between 5 players to finish 30 levels fastest, users may stay longer in games to win it and play more sessions. The competition which builds tension and thrill can heighten **emotional investment**."
   ]
  },
  {
   "cell_type": "markdown",
   "id": "8bdf59dc",
   "metadata": {},
   "source": [
    "### b) Which events would you suggest implementing to evaluate the performance of the LiveOps events? Please describe each event, including:\n",
    "* **When the event should be triggered**\n",
    "* **What parameters it should include (specific parameters)**"
   ]
  },
  {
   "cell_type": "markdown",
   "id": "b39b3087",
   "metadata": {},
   "source": [
    "I would suggest 2 events too, they are **liveops_event_session and liveops_event_progress**\n",
    "\n",
    "🔷 1. liveops_event_session\n",
    "\n",
    "📍When to Trigger: At the start of a LiveOps event (Tower or Race) OR when the player resumes an event session.\n",
    "\n",
    "| Parameter            | Description                  |\n",
    "| -------------------- | ---------------------------- |\n",
    "| `user_id`            | Player ID                    |\n",
    "| `event_name`         | `\"tower_streak\"` or `\"race\"` |\n",
    "| `event_day`          | Day within event cycle       |\n",
    "| `session_start_time` | Timestamp                    |\n",
    "| `entry_type`         | `\"new\"` or `\"resume\"`        |\n",
    "| `player_level`       | Current game level           |\n",
    "| `coin_balance`       | Coin count at entry          |\n",
    "| `is_first_time`      | Boolean for first-time entry |\n",
    "| `boosters_available` | Booster inventory snapshot   |"
   ]
  },
  {
   "cell_type": "markdown",
   "id": "d3c0341f",
   "metadata": {},
   "source": [
    "🔶 2. liveops_event_progress\n",
    "\n",
    "📍When to Trigger: After each match attempt within the event. Also triggered at event exit or reward claim.\n",
    "\n",
    "| Parameter          | Description                                       |\n",
    "| ------------------ | ------------------------------------------------- |\n",
    "| `user_id`          | Player ID                                         |\n",
    "| `event_name`       | `\"tower_streak\"` or `\"race\"`                      |\n",
    "| `attempt_id`       | Unique attempt reference                          |\n",
    "| `level`            | Game level attempted                              |\n",
    "| `result`           | `\"win\"` / `\"loss\"` / `\"quit\"`                     |\n",
    "| `time_spent`       | Duration of attempt                               |\n",
    "| `boosters_used`    | Number used in attempt                            |\n",
    "| `reward_earned`    | Coins or items gained (if any)                    |\n",
    "| `final_rank`       | For Race: 1–5                           |\n",
    "| `streak_count`     | For Tower: win streak count                       |\n",
    "| `event_outcome`    | `\"completed\"`, `\"lost\"`, `\"dnf\"` (did not finish) |\n",
    "| `session_end_time` | Timestamp                                         |"
   ]
  },
  {
   "cell_type": "markdown",
   "id": "00f0df59",
   "metadata": {},
   "source": [
    "### c) Based on these events, which key metrics would you compute to measure the features’ performance?"
   ]
  },
  {
   "cell_type": "markdown",
   "id": "82aa8c6e",
   "metadata": {},
   "source": [
    "🔷 Metrics from liveops_event_session (Session-Level Insights)\n",
    "\n",
    "\n",
    "| **Metric**                        | **What it Tells You**                              | **How to Compute**                                                  |\n",
    "| --------------------------------- | -------------------------------------------------- | ------------------------------------------------------------------- |\n",
    "| **Participation Rate**            | % of eligible players who start the event          | `distinct(user_id)` in `liveops_event_session / eligible_players` |                     |\n",
    "| **Daily Active Participants**     | Daily event engagement                             | Count of `user_id` per `event_day`                                  |                                              |\n",
    "| **Avg Coin Balance on Entry**     | Monetization readiness before participating        | `avg(coin_balance)`                                                 |\n",
    "| **Booster Ownership on Entry**    | % of users with available boosters                 | % with `boosters_available > 0`                                     |\n",
    "\n",
    "\n",
    "\n",
    "\n",
    "\n",
    "--\n",
    "\n",
    "🔶 Metrics from liveops_event_progress (Match & Outcome Insights)\n",
    "| **Metric**                         | **What it Tells You**                       | **How to Compute**                                      |\n",
    "| ---------------------------------- | ------------------------------------------- | ------------------------------------------------------- |\n",
    "| **Attempt Volume**                 | Total number of games played in the event   | Count of `attempt_id`                                   |\n",
    "| **Completion Rate (Race)**         | % of users who completed 30 levels          | % where `event_outcome = 'completed'`                   |\n",
    "| **Streak Failure Rate (Tower)**    | % of users who lose before reaching goal    | % where `event_outcome = 'lost'`                        |\n",
    "| **Avg Win Streak (Tower)**         | Skill performance of users                  | `avg(streak_count)` where `event_name = 'tower_streak'` |\n",
    "| **Avg Match Duration**             | Time spent per level                        | `avg(time_spent)`                                       |\n",
    "| **Booster Usage Rate**             | Engagement with power-ups                   | % where `boosters_used > 0`                             |\n",
    "| **Reward Claim Rate**              | % of players who earned and claimed rewards | % where `reward_earned > 0`                             |\n",
    "\n",
    "\n",
    "These metrics help to measures in-event behavior, success/failure rates, outcomes, and monetization signals.\n",
    "We can compare LiveOps vs. Non-LiveOps Session to see if this event increase playtime, session frequency, or revenue. Then Compare D1/D3/D7 retention between participants and non-participants can help to check if this event uplift event retention."
   ]
  },
  {
   "cell_type": "markdown",
   "id": "817fc5fa",
   "metadata": {},
   "source": [
    "| **Metric**                     | **What it Tells You**                       | **How to Compute**                                                |\n",
    "|--------------------------------|---------------------------------------------|-------------------------------------------------------------------|\n",
    "| **Participation Rate**         | % of eligible players who start the event   | `distinct(user_id)` in `liveops_event_session / eligible_players` |\n",
    "| **Daily Active Participants**  | Daily event engagement                      | Count of `user_id` per `event_day`                                |\n",
    "| **Avg Coin Balance on Entry**  | Monetization readiness before participating | `avg(coin_balance)`                                               |\n",
    "| **Booster Ownership on Entry** | % of users with available boosters          | % with `boosters_available > 0`                                   |\n"
   ]
  }
 ],
 "metadata": {
  "kernelspec": {
   "display_name": "base",
   "language": "python",
   "name": "python3"
  },
  "language_info": {
   "name": "python",
   "version": "3.11.5"
  }
 },
 "nbformat": 4,
 "nbformat_minor": 5
}
